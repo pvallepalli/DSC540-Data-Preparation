{
 "cells": [
  {
   "cell_type": "markdown",
   "metadata": {},
   "source": [
    "# Activity 9"
   ]
  },
  {
   "cell_type": "code",
   "execution_count": 1,
   "metadata": {},
   "outputs": [],
   "source": [
    "import requests\n",
    "from bs4 import BeautifulSoup\n",
    "import ssl\n",
    "import re"
   ]
  },
  {
   "cell_type": "code",
   "execution_count": 2,
   "metadata": {},
   "outputs": [],
   "source": [
    "# Ignore SSL certificate errors\n",
    "ctx = ssl.create_default_context()\n",
    "ctx.check_hostname = False\n",
    "ctx.verify_mode = ssl.CERT_NONE"
   ]
  },
  {
   "cell_type": "code",
   "execution_count": 3,
   "metadata": {},
   "outputs": [],
   "source": [
    "# Read the HTML from the URL and pass on to BeautifulSoup\n",
    "response = requests.get('https://www.gutenberg.org/browse/scores/top')"
   ]
  },
  {
   "cell_type": "code",
   "execution_count": 4,
   "metadata": {},
   "outputs": [],
   "source": [
    "# Function to check status of response\n",
    "def status_check(resp):\n",
    "    if resp.status_code == 200:\n",
    "        print(\"Success!\")\n",
    "    else:\n",
    "        print(\"Failed!\")\n",
    "    return resp.status_code"
   ]
  },
  {
   "cell_type": "code",
   "execution_count": 5,
   "metadata": {},
   "outputs": [
    {
     "name": "stdout",
     "output_type": "stream",
     "text": [
      "Success!\n"
     ]
    },
    {
     "data": {
      "text/plain": [
       "200"
      ]
     },
     "execution_count": 5,
     "metadata": {},
     "output_type": "execute_result"
    }
   ],
   "source": [
    "status_check(response)"
   ]
  },
  {
   "cell_type": "code",
   "execution_count": 6,
   "metadata": {},
   "outputs": [],
   "source": [
    "# Decode the response and pass on to `BeautifulSoup` for HTML parsing\n",
    "contents = response.content.decode(response.encoding)\n",
    "soup = BeautifulSoup(contents, 'html.parser')"
   ]
  },
  {
   "cell_type": "code",
   "execution_count": 7,
   "metadata": {},
   "outputs": [
    {
     "data": {
      "text/plain": [
       "['/',\n",
       " '/about/',\n",
       " '/about/',\n",
       " '/policy/collection_development.html',\n",
       " '/about/contact_information.html',\n",
       " '/about/background/',\n",
       " '/policy/permission.html',\n",
       " '/policy/privacy_policy.html',\n",
       " '/policy/terms_of_use.html',\n",
       " '/ebooks/',\n",
       " '/ebooks/',\n",
       " '/ebooks/bookshelf/',\n",
       " '/browse/scores/top',\n",
       " '/ebooks/offline_catalogs.html',\n",
       " '/help/',\n",
       " '/help/',\n",
       " '/help/copyright.html',\n",
       " '/help/errata.html',\n",
       " '/help/file_formats.html',\n",
       " '/help/faq.html',\n",
       " '/policy/',\n",
       " '/help/public_domain_ebook_submission.html',\n",
       " '/help/submitting_your_own_work.html',\n",
       " '/help/mobile.html',\n",
       " '/attic/',\n",
       " '/donate/',\n",
       " '/donate/',\n",
       " '#books-last1',\n",
       " '#authors-last1',\n",
       " '#books-last7']"
      ]
     },
     "execution_count": 7,
     "metadata": {},
     "output_type": "execute_result"
    }
   ],
   "source": [
    "# Find all the href tags and store them in the list\n",
    "url_list = []\n",
    "for url in soup.find_all('a'):\n",
    "    url_list.append(url.get('href'))\n",
    "\n",
    "# print first 30 elements\n",
    "url_list[:30]"
   ]
  },
  {
   "cell_type": "code",
   "execution_count": 8,
   "metadata": {},
   "outputs": [
    {
     "name": "stdout",
     "output_type": "stream",
     "text": [
      "File numbers for the top 100 ebooks on Gutenberg: \n",
      "\n",
      "[1, 1, 7, 7, 30, 30, 1342, 1661, 11, 105, 84, 2701, 345, 2591, 33283, 174, 98, 1184, 4300, 2600, 5200, 1400, 6130, 1952, 64317, 2554, 68613, 1080, 1260, 30254, 68609, 1232, 68611, 58585, 45, 68610, 120, 844, 1399, 43, 76, 28054, 74, 514, 27827, 68604, 5740, 158, 768, 32449, 28026, 2542, 55, 4980, 67098, 219, 244, 16, 4363, 161, 205, 996, 2680, 1727, 10, 5827, 135, 8492, 1497, 35, 766, 2814, 36, 1998, 43453, 236, 25344, 2852, 68605, 730, 68612, 863, 27107, 42108, 3600, 46, 2848, 31284, 41, 3296, 3206, 902]\n"
     ]
    }
   ],
   "source": [
    "# Regular expression to find the numeric digits in the link (href) string\n",
    "books_list = []\n",
    "for index in range(19,119):\n",
    "    url = url_list[index].strip()\n",
    "    num = re.findall('[0-9]+', url) \n",
    "    if len(num) == 1:\n",
    "        books_list.append(int(num[0]))\n",
    "\n",
    "print(\"File numbers for the top 100 ebooks on Gutenberg: \\n\")\n",
    "print(books_list)"
   ]
  },
  {
   "cell_type": "code",
   "execution_count": 9,
   "metadata": {
    "scrolled": false
   },
   "outputs": [
    {
     "data": {
      "text/plain": [
       "\"\\n\\n\\n\\nTop 100 | Project Gutenberg\\n\\n\\n\\n\\n\\n\\n\\n\\n\\n\\n\\n\\n\\n\\n\\n\\n\\n\\n\\n\\n\\n\\n\\n\\n\\n\\n\\nMenu▾\\n\\n\\n\\nAbout\\n          ▾\\n\\n▾\\n\\n\\nAbout Project Gutenberg\\nCollection Development\\nContact Us\\nHistory & Philosophy\\nPermissions & License\\nPrivacy Policy\\nTerms of Use\\n\\n\\n\\nSearch and Browse\\n      \\t  ▾\\n\\n▾\\n\\n\\nBook Search\\nBookshelves\\nFrequently Downloaded\\nOffline Catalogs\\n\\n\\n\\nHelp\\n          ▾\\n\\n▾\\n\\n\\nAll help topics →\\nCopyright Procedures\\nErrata, Fixes and Bug Reports\\nFile Formats\\nFrequently Asked Questions\\nPolicies →\\nPublic Domain eBook Submission\\nSubmitting Your Own Work\\nTablets, Phones and eReaders\\nThe Attic →\\n\\n\\nDonate\\n\\n\\n\\n\\n\\n\\n\\n\\n\\n\\nDonation\\n\\n\\n\\n\\n\\n\\n\\nFrequently Viewed or Downloaded\\nThese listings are based on the number of times each eBook gets downloaded.\\n      Multiple downloads from the same Internet address on the same day count as one download, and addresses that download more than 100 eBooks in a day are considered robots and are not counted.\\n\\nDownloaded Books\\n2022-07-27151663\\nlast 7 days1031886\\nlast 30 days4405201\\n\\n\\n\\nTop 100 EBooks yesterday\\nTop 100 Authors yesterday\\nTop 100 EBooks last 7 days\\nTop 100 Authors last 7 days\\nTop 100 EBooks last 30 days\\nTop 100 Authors last 30 days\\n\\n\\nTop 100 EBooks yesterday\\n\\nPride and Prejudice by Jane Austen (1870)\\nThe Adventures of Sherlock Holmes by Arthur Conan Doyle (1014)\\nAlice's Adventures in Wonderland by Lewis Carroll (786)\\nPersuasion by Jane Austen (675)\\nFrankenstein; Or, The Modern Prometheus by Mary Wollstonecraft Shelley (620)\\nMoby Dick; Or, The Whale by Herman Melville (594)\\nDracula by Bram Stoker (553)\\nGrimms' Fairy Tales by Jacob Grimm and Wilhelm Grimm (510)\\nCalculus Made Easy by Silvanus P.  Thompson (506)\\nThe Picture of Dorian Gray by Oscar Wilde (491)\\nA Tale of Two Cities by Charles Dickens (489)\\nThe Count of Monte Cristo, Illustrated by Alexandre Dumas (486)\\nUlysses by James Joyce (460)\\nWar and Peace by graf Leo Tolstoy (413)\\nMetamorphosis by Franz Kafka (398)\\nGreat Expectations by Charles Dickens (366)\\nThe Iliad by Homer (365)\\nThe Yellow Wallpaper by Charlotte Perkins \""
      ]
     },
     "execution_count": 9,
     "metadata": {},
     "output_type": "execute_result"
    }
   ],
   "source": [
    "soup.text[:2000]"
   ]
  },
  {
   "cell_type": "code",
   "execution_count": 10,
   "metadata": {},
   "outputs": [
    {
     "data": {
      "text/plain": [
       "['Top 100 EBooks last 7 days',\n",
       " 'Top 100 Authors last 7 days',\n",
       " 'Top 100 EBooks last 30 days',\n",
       " 'Top 100 Authors last 30 days',\n",
       " '',\n",
       " '',\n",
       " 'Top 100 EBooks yesterday',\n",
       " '',\n",
       " 'Pride and Prejudice by Jane Austen (1870)',\n",
       " 'The Adventures of Sherlock Holmes by Arthur Conan Doyle (1014)',\n",
       " \"Alice's Adventures in Wonderland by Lewis Carroll (786)\",\n",
       " 'Persuasion by Jane Austen (675)',\n",
       " 'Frankenstein; Or, The Modern Prometheus by Mary Wollstonecraft Shelley (620)',\n",
       " 'Moby Dick; Or, The Whale by Herman Melville (594)',\n",
       " 'Dracula by Bram Stoker (553)',\n",
       " \"Grimms' Fairy Tales by Jacob Grimm and Wilhelm Grimm (510)\",\n",
       " 'Calculus Made Easy by Silvanus P.  Thompson (506)',\n",
       " 'The Picture of Dorian Gray by Oscar Wilde (491)',\n",
       " 'A Tale of Two Cities by Charles Dickens (489)',\n",
       " 'The Count of Monte Cristo, Illustrated by Alexandre Dumas (486)',\n",
       " 'Ulysses by James Joyce (460)',\n",
       " 'War and Peace by graf Leo Tolstoy (413)',\n",
       " 'Metamorphosis by Franz Kafka (398)',\n",
       " 'Great Expectations by Charles Dickens (366)',\n",
       " 'The Iliad by Homer (365)',\n",
       " 'The Yellow Wallpaper by Charlotte Perkins Gilman (354)',\n",
       " 'The Great Gatsby by F. Scott  Fitzgerald (351)',\n",
       " 'Crime and Punishment by Fyodor Dostoyevsky (347)',\n",
       " 'How to write the history of a parish by J. Charles  Cox (337)',\n",
       " 'A Modest Proposal by Jonathan Swift (326)',\n",
       " 'Jane Eyre: An Autobiography by Charlotte Brontë (317)',\n",
       " 'The Romance of Lust: A classic Victorian erotic novel by Anonymous (297)',\n",
       " 'Skylark of Valeron by E. E.  Smith (292)',\n",
       " 'The Prince by Niccolò Machiavelli (281)',\n",
       " 'Science and the modern world: Lowell Lectures 1925 by Alfred North Whitehead (279)',\n",
       " 'The Prophet by Kahlil Gibran (279)',\n",
       " 'Anne of Green Gables by L. M.  Montgomery (275)',\n",
       " \"Love's labor won by Emma Dorothy Eliza Nevitte Southworth (272)\",\n",
       " 'Treasure Island by Robert Louis Stevenson (269)',\n",
       " 'The Importance of Being Earnest: A Trivial Comedy for Serious People by Oscar Wilde (269)',\n",
       " 'Anna Karenina by graf Leo Tolstoy (268)',\n",
       " 'The Strange Case of Dr. Jekyll and Mr. Hyde by Robert Louis Stevenson (264)',\n",
       " 'Adventures of Huckleberry Finn by Mark Twain (262)',\n",
       " 'The Brothers Karamazov by Fyodor Dostoyevsky (258)',\n",
       " 'The Adventures of Tom Sawyer, Complete by Mark Twain (256)',\n",
       " 'Little Women by Louisa May Alcott (254)',\n",
       " 'The Kama Sutra of Vatsyayana by Vatsyayana (253)',\n",
       " 'Europe and elsewhere by Mark Twain (249)',\n",
       " 'Tractatus Logico-Philosophicus by Ludwig Wittgenstein (246)',\n",
       " 'Emma by Jane Austen (237)',\n",
       " 'Wuthering Heights by Emily Brontë (236)',\n",
       " 'Japanese Girls and Women by Alice Mabel Bacon (232)',\n",
       " 'Great Pianists on Piano Playing by James Francis Cooke (229)',\n",
       " \"A Doll's House : a play by Henrik Ibsen (228)\",\n",
       " 'The Wonderful Wizard of Oz by L. Frank  Baum (227)',\n",
       " 'Old Granny Fox by Thornton W.  Burgess (226)',\n",
       " 'Winnie-the-Pooh by A. A.  Milne (221)',\n",
       " 'Heart of Darkness by Joseph Conrad (214)',\n",
       " 'A Study in Scarlet by Arthur Conan Doyle (214)',\n",
       " 'Peter Pan by J. M.  Barrie (211)',\n",
       " 'Beyond Good and Evil by Friedrich Wilhelm Nietzsche (211)',\n",
       " 'Sense and Sensibility by Jane Austen (210)',\n",
       " 'Walden, and On The Duty Of Civil Disobedience by Henry David Thoreau (210)',\n",
       " 'Don Quixote by Miguel de Cervantes Saavedra (203)',\n",
       " 'Meditations by Emperor of Rome Marcus Aurelius (200)',\n",
       " 'The Odyssey by Homer (197)',\n",
       " 'The King James Version of the Bible (196)',\n",
       " 'The Problems of Philosophy by Bertrand Russell (192)',\n",
       " 'Les Misérables by Victor Hugo (189)',\n",
       " 'The King in Yellow by Robert W.  Chambers (185)',\n",
       " 'The Republic by Plato (181)',\n",
       " 'The Time Machine by H. G.  Wells (178)',\n",
       " 'David Copperfield by Charles Dickens (175)',\n",
       " 'Dubliners by James Joyce (174)',\n",
       " 'The War of the Worlds by H. G.  Wells (167)',\n",
       " 'Thus Spake Zarathustra: A Book for All and None by Friedrich Wilhelm Nietzsche (165)',\n",
       " 'A Pickle for the Knowing Ones by Timothy Dexter (164)',\n",
       " 'The Jungle Book by Rudyard Kipling (164)',\n",
       " 'The Scarlet Letter by Nathaniel Hawthorne (163)',\n",
       " 'The Hound of the Baskervilles by Arthur Conan Doyle (163)',\n",
       " 'A corner in corn; or, How a Chicago boy did the trick by Self-made man (161)',\n",
       " 'Oliver Twist by Charles Dickens (160)',\n",
       " 'An account of the principalities of Wallachia and Moldavia: with various political observations rela (160)',\n",
       " 'The Mysterious Affair at Styles by Agatha Christie (159)',\n",
       " '金雲翹傳 by Qingxincairen (155)',\n",
       " 'The Slang Dictionary: Etymological, Historical and Andecdotal by John Camden Hotten (154)',\n",
       " 'Essays of Michel de Montaigne — Complete by Michel de Montaigne (154)',\n",
       " 'A Christmas Carol in Prose; Being a Ghost Story of Christmas by Charles Dickens (153)',\n",
       " 'Antiquities of the Jews by Flavius Josephus (152)',\n",
       " 'Josefine Mutzenbacher by Felix Salten (151)',\n",
       " 'The Legend of Sleepy Hollow by Washington Irving (151)',\n",
       " 'The Confessions of St. Augustine by Bishop of Hippo Saint Augustine (148)',\n",
       " 'Moby Multiple Language Lists of Common Words by Grady Ward (145)',\n",
       " 'The Happy Prince, and Other Tales by Oscar Wilde (142)',\n",
       " 'Simple Sabotage Field Manual by United States. Office of Strategic Services (141)',\n",
       " 'An Index of The Divine Comedy by Dante by Dante Alighieri (139)',\n",
       " 'The History of the Decline and Fall of the Roman Empire by Edward Gibbon (137)',\n",
       " 'Leviathan by Thomas Hobbes (137)',\n",
       " 'The Souls of Black Folk by W. E. B.  Du Bois (136)',\n",
       " \"Uncle Tom's Cabin by Harriet Beecher Stowe (135)\"]"
      ]
     },
     "execution_count": 10,
     "metadata": {},
     "output_type": "execute_result"
    }
   ],
   "source": [
    "# Create a starting index. It should point at the text _\"Top 100 Ebooks yesterday\"_. Hint: Use `splitlines()` method of the `soup.text`. It splits the lines of the text of the `soup` object.\n",
    "ebooks_list = []\n",
    "\n",
    "index_start = soup.text.splitlines().index('Top 100 EBooks yesterday')\n",
    "\n",
    "for index in range(100):\n",
    "    ebooks_list.append(soup.text.splitlines()[index_start+2+index])\n",
    "\n",
    "ebooks_list"
   ]
  },
  {
   "cell_type": "markdown",
   "metadata": {},
   "source": [
    " # Activity 10"
   ]
  },
  {
   "cell_type": "code",
   "execution_count": 11,
   "metadata": {},
   "outputs": [],
   "source": [
    "from urllib import request, parse, error\n",
    "import os\n",
    "import json"
   ]
  },
  {
   "cell_type": "code",
   "execution_count": 12,
   "metadata": {},
   "outputs": [],
   "source": [
    "with open('secrets.json') as f:\n",
    "    keys = json.load(f)\n",
    "    api_key = keys['api_key']"
   ]
  },
  {
   "cell_type": "code",
   "execution_count": 13,
   "metadata": {},
   "outputs": [],
   "source": [
    "url = f\"http://www.omdbapi.com/?\"\n",
    "api_str = f\"apikey={api_key}\""
   ]
  },
  {
   "cell_type": "code",
   "execution_count": 14,
   "metadata": {},
   "outputs": [],
   "source": [
    "def print_json(json_data):\n",
    "    keys_list = ['Title', 'Year', 'Rated', 'Released', 'Runtime', 'Genre', 'Director', 'Writer', 'Actors', 'Plot', 'Language', 'Country', 'Awards', 'Ratings', 'Metascore', 'imdbRating', 'imdbVotes', 'imdbID']\n",
    "\n",
    "    for key in keys_list:\n",
    "        if key in list(json_data.keys()):\n",
    "            print(f\"{key}: {json_data[key]}\")"
   ]
  },
  {
   "cell_type": "code",
   "execution_count": 15,
   "metadata": {},
   "outputs": [],
   "source": [
    "def save_poster(json_data):\n",
    "    title = json_data['Title']\n",
    "    poster_url = json_data['Poster']\n",
    "    poster_file_ext = poster_url.split('.')[-1]\n",
    "    # Reads the image file from web\n",
    "    poster_data = request.urlopen(poster_url).read()\n",
    "        \n",
    "    location = f\"{os.getcwd()}\\\\Posters\\\\\"\n",
    "    \n",
    "    # Creates new directory if the directory does not exist\n",
    "    if not os.path.isdir(location):\n",
    "        os.mkdir(location)\n",
    "    \n",
    "    filename = f'{location}{str(title)}.{poster_file_ext}' \n",
    "    file = open(filename,'wb')\n",
    "    file.write(poster_data)\n",
    "    file.close()"
   ]
  },
  {
   "cell_type": "code",
   "execution_count": 16,
   "metadata": {},
   "outputs": [],
   "source": [
    "def search_movie(title):\n",
    "    try:\n",
    "        search_url = f\"{url}\"\n",
    "        print(f'Retrieving the data of \"{title}\" now... ')\n",
    "        print(search_url)\n",
    "        resp = requests.get(url, params={'t': str(title), 'apikey': api_key})\n",
    "        json_data = resp.json()\n",
    "        if json_data['Response']=='True':\n",
    "            print_json(json_data)\n",
    "            if json_data['Poster']!='N/A':\n",
    "                save_poster(json_data)\n",
    "        else:\n",
    "            print(f\"Error: {json_data['Error']}\")\n",
    "    \n",
    "    except error.URLError as e:\n",
    "        print(f\"ERROR: {e.reason}\")"
   ]
  },
  {
   "cell_type": "code",
   "execution_count": 17,
   "metadata": {},
   "outputs": [
    {
     "name": "stdout",
     "output_type": "stream",
     "text": [
      "Retrieving the data of \"Titanic\" now... \n",
      "http://www.omdbapi.com/?\n",
      "Title: Titanic\n",
      "Year: 1997\n",
      "Rated: PG-13\n",
      "Released: 19 Dec 1997\n",
      "Runtime: 194 min\n",
      "Genre: Drama, Romance\n",
      "Director: James Cameron\n",
      "Writer: James Cameron\n",
      "Actors: Leonardo DiCaprio, Kate Winslet, Billy Zane\n",
      "Plot: A seventeen-year-old aristocrat falls in love with a kind but poor artist aboard the luxurious, ill-fated R.M.S. Titanic.\n",
      "Language: English, Swedish, Italian, French\n",
      "Country: United States, Mexico\n",
      "Awards: Won 11 Oscars. 125 wins & 83 nominations total\n",
      "Ratings: [{'Source': 'Internet Movie Database', 'Value': '7.9/10'}, {'Source': 'Rotten Tomatoes', 'Value': '87%'}, {'Source': 'Metacritic', 'Value': '75/100'}]\n",
      "Metascore: 75\n",
      "imdbRating: 7.9\n",
      "imdbVotes: 1,141,554\n",
      "imdbID: tt0120338\n"
     ]
    }
   ],
   "source": [
    "search_movie(\"Titanic\")"
   ]
  },
  {
   "cell_type": "code",
   "execution_count": 18,
   "metadata": {},
   "outputs": [
    {
     "name": "stdout",
     "output_type": "stream",
     "text": [
      "Retrieving the data of \"Random_error\" now... \n",
      "http://www.omdbapi.com/?\n",
      "Error: Movie not found!\n"
     ]
    }
   ],
   "source": [
    "search_movie(\"Random_error\")"
   ]
  },
  {
   "cell_type": "markdown",
   "metadata": {},
   "source": [
    "# Twitter API "
   ]
  },
  {
   "cell_type": "code",
   "execution_count": 19,
   "metadata": {},
   "outputs": [],
   "source": [
    "import twitter"
   ]
  },
  {
   "cell_type": "code",
   "execution_count": 20,
   "metadata": {},
   "outputs": [],
   "source": [
    "api_key = 'xxxxxxxxxxxxxxxxx'\n",
    "api_secret = 'xxxxxxxxxxxxxxxxx'\n",
    "access_token = 'xxxxxxxxxxxxxxxxx'\n",
    "access_secret = 'xxxxxxxxxxxxxxxxx'"
   ]
  },
  {
   "cell_type": "code",
   "execution_count": 21,
   "metadata": {},
   "outputs": [],
   "source": [
    "api = twitter.Api(consumer_key=api_key,\n",
    "                  consumer_secret=api_secret,\n",
    "                  access_token_key=access_token,\n",
    "                  access_token_secret=access_secret)"
   ]
  },
  {
   "cell_type": "code",
   "execution_count": 22,
   "metadata": {},
   "outputs": [
    {
     "data": {
      "text/plain": [
       "[Status(ID=1552761990329683968, ScreenName=SheRidesABike, Created=Thu Jul 28 21:04:42 +0000 2022, Text='RT @BoPOP_WA: #WeTakeTransit:\\n🚍 522 from Roosevelt via Lk City\\n🚍 372 from University of WA\\n🚍 535 from Bellevue\\n🚍 105 from SW EVT &amp; Mill Crk…'),\n",
       " Status(ID=1552761874835337216, ScreenName=BoPOP_WA, Created=Thu Jul 28 21:04:14 +0000 2022, Text='#WeTakeTransit:\\n🚍 522 from Roosevelt via Lk City\\n🚍 372 from University of WA\\n🚍 535 from Bellevue\\n🚍 105 from SW EVT… https://t.co/lG5B2DaJXE'),\n",
       " Status(ID=1552693656125116417, ScreenName=BellevueU, Created=Thu Jul 28 16:33:09 +0000 2022, Text='A bachelor’s and two master’s degrees from Bellevue University — Jeremy is crushing it! #goals https://t.co/AmB3Ba9wQu'),\n",
       " Status(ID=1552631282495922176, ScreenName=kcmetrocanceled, Created=Thu Jul 28 12:25:18 +0000 2022, Text='Route 271 to University District Bellevue\\n(* = canceled until further notice)\\nDeparting Eastgate Park &amp; Ride - Bay… https://t.co/mIRB5dJZlc'),\n",
       " Status(ID=1552535212663472129, ScreenName=Skidson1, Created=Thu Jul 28 06:03:34 +0000 2022, Text='belle knox belle delphine bellevue bellevue university bellelily belleville belle tire belle \\n\\nMore: https://t.co/rVDhAtUlSx'),\n",
       " Status(ID=1552482067929235459, ScreenName=thinmanx11, Created=Thu Jul 28 02:32:23 +0000 2022, Text='RT @KayleeDenker1: Had an amazing campus tour today at Bellevue University. Great seeing you coaches again. @DaveDenly @thinmanx11'),\n",
       " Status(ID=1552477918286282754, ScreenName=DaveDenly, Created=Thu Jul 28 02:15:54 +0000 2022, Text='RT @KayleeDenker1: Had an amazing campus tour today at Bellevue University. Great seeing you coaches again. @DaveDenly @thinmanx11'),\n",
       " Status(ID=1552453155325091847, ScreenName=KayleeDenker1, Created=Thu Jul 28 00:37:30 +0000 2022, Text='Had an amazing campus tour today at Bellevue University. Great seeing you coaches again. @DaveDenly @thinmanx11 https://t.co/iDJqjRdb33'),\n",
       " Status(ID=1552352078919524356, ScreenName=dnk900, Created=Wed Jul 27 17:55:51 +0000 2022, Text='RT @SPHL: SPHL, @BellevueU announce educational partnership\\n\\nhttps://t.co/I0p9vpQzRc https://t.co/zvXN0lnkpM'),\n",
       " Status(ID=1552313188439539712, ScreenName=EnsorSeth, Created=Wed Jul 27 15:21:19 +0000 2022, Text='RT @SPHL: SPHL, @BellevueU announce educational partnership\\n\\nhttps://t.co/I0p9vpQzRc https://t.co/zvXN0lnkpM')]"
      ]
     },
     "execution_count": 22,
     "metadata": {},
     "output_type": "execute_result"
    }
   ],
   "source": [
    "api.GetSearch(term='Bellevue University', count=10)"
   ]
  },
  {
   "cell_type": "code",
   "execution_count": 23,
   "metadata": {},
   "outputs": [
    {
     "data": {
      "text/plain": [
       "[Status(ID=1552336389911494656, ScreenName=JomboyMedia, Created=Wed Jul 27 16:53:31 +0000 2022, Text='A pair of Omaha Storm Chasers hit home runs off of Jacob deGrom in the same inning! https://t.co/GDdvidZAzS'),\n",
       " Status(ID=1552744471225417731, ScreenName=rodger, Created=Thu Jul 28 19:55:05 +0000 2022, Text='so Better Call Saul does one episode in Omaha and has an extended Nebraska football plotline... but 11 seasons of B… https://t.co/gq0IItcmvP'),\n",
       " Status(ID=1552300574791565312, ScreenName=DickieV, Created=Wed Jul 27 14:31:12 +0000 2022, Text='The @CycloneMBB  fans are celebrating big time as they get a commitment from the highest rated PTPER in the history… https://t.co/NB0PLXTjOD'),\n",
       " Status(ID=1552879564774248448, ScreenName=Reed_B00ks, Created=Fri Jul 29 04:51:54 +0000 2022, Text='RT @WHO13news: Omaha Biliew discusses commitment to Cyclones https://t.co/5GjqvswLy0'),\n",
       " Status(ID=1552879397677383681, ScreenName=SPPokr, Created=Fri Jul 29 04:51:14 +0000 2022, Text='Congratulations to all our Omaha 8/B winners tonight! We had 79 entries with a $3,397 prize pool. Play concluded wi… https://t.co/6LpvqYcr1r'),\n",
       " Status(ID=1552879370636632064, ScreenName=RapunzelBrunet1, Created=Fri Jul 29 04:51:07 +0000 2022, Text='@gaspingrepublic @WallStreetQuee2 @OccupyDemocrats Not only does Gen Z tend to be more liberal and anti-fascist, bu… https://t.co/BUa4j7Imw6'),\n",
       " Status(ID=1552879308997156866, ScreenName=GilpinPeri, Created=Fri Jul 29 04:50:53 +0000 2022, Text='RT @wyntermitchell: Tracy Morgan at Omaha airport singing With Or Without You to gate A5 https://t.co/ugi6C5FU4E'),\n",
       " Status(ID=1552879102893252610, ScreenName=AllDevOpsJobs, Created=Fri Jul 29 04:50:03 +0000 2022, Text='Ad Hoc Team is looking for a Managing Software Engineer DevOps (remote) (Omaha) https://t.co/S4Z6BcHwU4'),\n",
       " Status(ID=1552878527694905344, ScreenName=BenDTSPodcast, Created=Fri Jul 29 04:47:46 +0000 2022, Text='RT @SportsTownsPod: Learn more about this non-profit as they develop a state-of-the-art outdoor sports complex in Elkhorn, NE by visiting t…'),\n",
       " Status(ID=1552878512876429312, ScreenName=BenDTSPodcast, Created=Fri Jul 29 04:47:43 +0000 2022, Text=\"RT @SportsTownsPod: Something Eric Crouch (@croucheric) spoke about in our Omaha episode was the importance of youth sports. That's why he'…\")]"
      ]
     },
     "execution_count": 23,
     "metadata": {},
     "output_type": "execute_result"
    }
   ],
   "source": [
    "api.GetSearch(term='Omaha', count=10)"
   ]
  },
  {
   "cell_type": "markdown",
   "metadata": {},
   "source": [
    "# Visualizations"
   ]
  },
  {
   "cell_type": "code",
   "execution_count": 24,
   "metadata": {},
   "outputs": [],
   "source": [
    "import pandas as pd\n",
    "import numpy as np\n",
    "import matplotlib\n",
    "import matplotlib.pyplot as plt\n",
    "import seaborn as sns"
   ]
  },
  {
   "cell_type": "code",
   "execution_count": 25,
   "metadata": {},
   "outputs": [],
   "source": [
    "# df = pd.read_csv('genres_v2.csv', low_memory=False)\n",
    "df = pd.read_csv('cancer.csv')"
   ]
  },
  {
   "cell_type": "markdown",
   "metadata": {},
   "source": [
    "### Scatter Plot"
   ]
  },
  {
   "cell_type": "code",
   "execution_count": 26,
   "metadata": {},
   "outputs": [
    {
     "data": {
      "image/png": "[encoded data removed]",
      "text/plain": [
       "<Figure size 576x432 with 1 Axes>"
      ]
     },
     "metadata": {
      "needs_background": "light"
     },
     "output_type": "display_data"
    }
   ],
   "source": [
    "plt.figure(figsize=(8, 6))\n",
    "plt.scatter(df['Radius (mean)'], df['Texture (mean)'])\n",
    "plt.xlabel('Radius (mean)')\n",
    "plt.ylabel('Texture (mean)')\n",
    "plt.show()"
   ]
  },
  {
   "cell_type": "markdown",
   "metadata": {},
   "source": [
    "### Histogram"
   ]
  },
  {
   "cell_type": "code",
   "execution_count": 27,
   "metadata": {},
   "outputs": [
    {
     "data": {
      "text/plain": [
       "<AxesSubplot:xlabel='Area (mean)', ylabel='Count'>"
      ]
     },
     "execution_count": 27,
     "metadata": {},
     "output_type": "execute_result"
    },
    {
     "data": {
      "image/png": "[encoded data removed]",
      "text/plain": [
       "<Figure size 576x432 with 1 Axes>"
      ]
     },
     "metadata": {
      "needs_background": "light"
     },
     "output_type": "display_data"
    }
   ],
   "source": [
    "plt.figure(figsize=(8,6))\n",
    "sns.histplot(df['Area (mean)'])"
   ]
  },
  {
   "cell_type": "markdown",
   "metadata": {},
   "source": [
    "### Density pLot"
   ]
  },
  {
   "cell_type": "code",
   "execution_count": 28,
   "metadata": {},
   "outputs": [
    {
     "data": {
      "text/plain": [
       "<AxesSubplot:xlabel='Perimeter (mean)', ylabel='Density'>"
      ]
     },
     "execution_count": 28,
     "metadata": {},
     "output_type": "execute_result"
    },
    {
     "data": {
      "image/png": "[encoded data removed]",
      "text/plain": [
       "<Figure size 576x432 with 1 Axes>"
      ]
     },
     "metadata": {
      "needs_background": "light"
     },
     "output_type": "display_data"
    }
   ],
   "source": [
    "plt.figure(figsize=(8,6))\n",
    "sns.kdeplot(data=df['Perimeter (mean)'], shade=True)"
   ]
  },
  {
   "cell_type": "markdown",
   "metadata": {},
   "source": [
    "### Line Plot"
   ]
  },
  {
   "cell_type": "code",
   "execution_count": 29,
   "metadata": {},
   "outputs": [
    {
     "data": {
      "text/plain": [
       "<AxesSubplot:xlabel='Perimeter (mean)', ylabel='Area (mean)'>"
      ]
     },
     "execution_count": 29,
     "metadata": {},
     "output_type": "execute_result"
    },
    {
     "data": {
      "image/png": "[encoded data removed]",
      "text/plain": [
       "<Figure size 576x432 with 1 Axes>"
      ]
     },
     "metadata": {
      "needs_background": "light"
     },
     "output_type": "display_data"
    }
   ],
   "source": [
    "plt.figure(figsize=(8,6))\n",
    "sns.lineplot(x=\"Perimeter (mean)\", y=\"Area (mean)\", data=df)"
   ]
  }
 ],
 "metadata": {
  "kernelspec": {
   "display_name": "Python 3 (ipykernel)",
   "language": "python",
   "name": "python3"
  },
  "language_info": {
   "codemirror_mode": {
    "name": "ipython",
    "version": 3
   },
   "file_extension": ".py",
   "mimetype": "text/x-python",
   "name": "python",
   "nbconvert_exporter": "python",
   "pygments_lexer": "ipython3",
   "version": "3.9.7"
  },
  "latex_envs": {
   "LaTeX_envs_menu_present": true,
   "autoclose": false,
   "autocomplete": true,
   "bibliofile": "biblio.bib",
   "cite_by": "apalike",
   "current_citInitial": 1,
   "eqLabelWithNumbers": true,
   "eqNumInitial": 1,
   "hotkeys": {
    "equation": "Ctrl-E",
    "itemize": "Ctrl-I"
   },
   "labels_anchors": false,
   "latex_user_defs": false,
   "report_style_numbering": false,
   "user_envs_cfg": false
  }
 },
 "nbformat": 4,
 "nbformat_minor": 2
}
