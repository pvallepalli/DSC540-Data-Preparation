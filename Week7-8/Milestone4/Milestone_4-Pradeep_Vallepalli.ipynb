{
 "cells": [
  {
   "cell_type": "code",
   "execution_count": 1,
   "id": "b421cb00",
   "metadata": {},
   "outputs": [],
   "source": [
    "import pandas as pd\n",
    "import requests\n",
    "import time\n",
    "import numpy as np\n",
    "import seaborn as sns"
   ]
  },
  {
   "cell_type": "code",
   "execution_count": 2,
   "id": "28e155f9",
   "metadata": {},
   "outputs": [],
   "source": [
    "source_df = pd.read_csv('housing.csv')"
   ]
  },
  {
   "cell_type": "code",
   "execution_count": 3,
   "id": "03bafba8",
   "metadata": {},
   "outputs": [
    {
     "data": {
      "text/plain": [
       "Index(['id', 'region', 'region_url', 'price', 'type', 'sqfeet', 'Built_year',\n",
       "       'beds', 'baths', 'cats_allowed', 'dogs_allowed', 'smoking_allowed',\n",
       "       'wheelchair_access', 'electric_vehicle_charge', 'comes_furnished',\n",
       "       'laundry_options', 'parking_options', 'lat', 'long', 'state'],\n",
       "      dtype='object')"
      ]
     },
     "execution_count": 3,
     "metadata": {},
     "output_type": "execute_result"
    }
   ],
   "source": [
    "source_df.columns"
   ]
  },
  {
   "cell_type": "code",
   "execution_count": 4,
   "id": "a8576d21",
   "metadata": {},
   "outputs": [],
   "source": [
    "coordinates = source_df[[\"lat\",\"long\"]].apply(list, axis=1).to_list()"
   ]
  },
  {
   "cell_type": "code",
   "execution_count": 5,
   "id": "1fb3275f",
   "metadata": {},
   "outputs": [],
   "source": [
    "# Function to get dict of address through an API request\n",
    "def get_address(query):\n",
    "    api_url = f\"https://geocode.maps.co/reverse?{query}\"\n",
    "    resp = requests.get(api_url)\n",
    "    if resp.status_code == 200:\n",
    "        return resp.json()['address']\n",
    "    else:\n",
    "        return {}"
   ]
  },
  {
   "cell_type": "code",
   "execution_count": 6,
   "id": "c8eb8d34",
   "metadata": {},
   "outputs": [
    {
     "name": "stdout",
     "output_type": "stream",
     "text": [
      "Total time: 649.8427000045776 seconds\n"
     ]
    }
   ],
   "source": [
    "data_list = []\n",
    "params = ['city', 'county', 'state', 'postcode']\n",
    "\n",
    "start = time.time()\n",
    "\n",
    "query_list = list({f\"lat={location[0]}&lon={location[1]}\" for location in coordinates})\n",
    "\n",
    "count = len(query_list)\n",
    "\n",
    "for index, query in enumerate(query_list[:1500]):    \n",
    "    try:\n",
    "        row_data = []\n",
    "        split_list = query.split('&')\n",
    "        row_data.extend([split_list[0].split('=')[1], split_list[1].split('=')[1]])\n",
    "        print(f\"processing {index+1}/{count}\", end = \"\\r\")\n",
    "        \n",
    "        # Calling get_address function to get data using api\n",
    "        address = get_address(query)\n",
    "        \n",
    "        for param in params:\n",
    "            if param in address:\n",
    "                row_data.append(address[param])\n",
    "            else:\n",
    "                row_data.append(None)\n",
    "        # Appending the list of rwo data to a list\n",
    "        data_list.append(row_data)\n",
    "    except Exception as err:\n",
    "        print(err)\n",
    "        print(address)\n",
    "        continue\n",
    "\n",
    "end = time.time()\n",
    "print(f'Total time: {end - start} seconds')\n",
    "df = pd.DataFrame(data_list, columns=['lat', 'long', 'city', 'county', 'state', 'zipcode'])\n",
    "\n",
    "# Storing the collected api data in a CSV to re-use\n",
    "df.to_csv('locations.csv')"
   ]
  },
  {
   "cell_type": "code",
   "execution_count": 7,
   "id": "c129de7f",
   "metadata": {},
   "outputs": [],
   "source": [
    "df = pd.read_csv('locations.csv')"
   ]
  },
  {
   "cell_type": "code",
   "execution_count": 8,
   "id": "fe22c86c",
   "metadata": {},
   "outputs": [
    {
     "name": "stdout",
     "output_type": "stream",
     "text": [
      "<class 'pandas.core.frame.DataFrame'>\n",
      "RangeIndex: 42232 entries, 0 to 42231\n",
      "Data columns (total 6 columns):\n",
      " #   Column   Non-Null Count  Dtype  \n",
      "---  ------   --------------  -----  \n",
      " 0   lat      42231 non-null  float64\n",
      " 1   long     42231 non-null  float64\n",
      " 2   city     23123 non-null  object \n",
      " 3   county   40854 non-null  object \n",
      " 4   state    42229 non-null  object \n",
      " 5   zipcode  40731 non-null  object \n",
      "dtypes: float64(2), object(4)\n",
      "memory usage: 1.9+ MB\n"
     ]
    }
   ],
   "source": [
    "df.info()"
   ]
  },
  {
   "cell_type": "markdown",
   "id": "ce0174eb",
   "metadata": {},
   "source": [
    "## Step 1. Handling None values in zipcode"
   ]
  },
  {
   "cell_type": "markdown",
   "id": "86ad6881",
   "metadata": {},
   "source": [
    "Lets replace None values with NaN"
   ]
  },
  {
   "cell_type": "code",
   "execution_count": 9,
   "id": "e42b8171",
   "metadata": {},
   "outputs": [],
   "source": [
    "df.fillna(value=np.nan, inplace=True)"
   ]
  },
  {
   "cell_type": "markdown",
   "id": "456bcc1f",
   "metadata": {},
   "source": [
    "## Step 2. Finding the missing values and filling"
   ]
  },
  {
   "cell_type": "markdown",
   "id": "934548f0",
   "metadata": {},
   "source": [
    "Lets check for missing values and fill it with median of Population data"
   ]
  },
  {
   "cell_type": "code",
   "execution_count": 10,
   "id": "d4e68644",
   "metadata": {},
   "outputs": [
    {
     "data": {
      "text/plain": [
       "lat            1\n",
       "long           1\n",
       "city       19109\n",
       "county      1378\n",
       "state          3\n",
       "zipcode     1501\n",
       "dtype: int64"
      ]
     },
     "execution_count": 10,
     "metadata": {},
     "output_type": "execute_result"
    }
   ],
   "source": [
    "df.isnull().sum()"
   ]
  },
  {
   "cell_type": "markdown",
   "id": "51bdd670",
   "metadata": {},
   "source": [
    "Lets fill the missing zipcodes with 00000"
   ]
  },
  {
   "cell_type": "code",
   "execution_count": 11,
   "id": "93075d62",
   "metadata": {},
   "outputs": [],
   "source": [
    "df['zipcode'].fillna('00000', inplace=True)"
   ]
  },
  {
   "cell_type": "code",
   "execution_count": 12,
   "id": "62712ded",
   "metadata": {},
   "outputs": [
    {
     "data": {
      "text/plain": [
       "lat            1\n",
       "long           1\n",
       "city       19109\n",
       "county      1378\n",
       "state          3\n",
       "zipcode        0\n",
       "dtype: int64"
      ]
     },
     "execution_count": 12,
     "metadata": {},
     "output_type": "execute_result"
    }
   ],
   "source": [
    "df.isnull().sum()"
   ]
  },
  {
   "cell_type": "markdown",
   "id": "e0c22c04",
   "metadata": {},
   "source": [
    "lets fill NaN values in city, county and state with empty string"
   ]
  },
  {
   "cell_type": "code",
   "execution_count": 13,
   "id": "536443b4",
   "metadata": {},
   "outputs": [],
   "source": [
    "df.fillna('', inplace=True)"
   ]
  },
  {
   "cell_type": "code",
   "execution_count": 14,
   "id": "c4994939",
   "metadata": {},
   "outputs": [
    {
     "data": {
      "text/plain": [
       "lat        0\n",
       "long       0\n",
       "city       0\n",
       "county     0\n",
       "state      0\n",
       "zipcode    0\n",
       "dtype: int64"
      ]
     },
     "execution_count": 14,
     "metadata": {},
     "output_type": "execute_result"
    }
   ],
   "source": [
    "df.isnull().sum()"
   ]
  },
  {
   "cell_type": "markdown",
   "id": "de92f639",
   "metadata": {},
   "source": [
    "## Step 3. Converting zipcode from str to int"
   ]
  },
  {
   "cell_type": "code",
   "execution_count": 15,
   "id": "115f4375",
   "metadata": {},
   "outputs": [
    {
     "name": "stdout",
     "output_type": "stream",
     "text": [
      "lat           0\n",
      "long          0\n",
      "city          0\n",
      "county        0\n",
      "state         0\n",
      "zipcode    1501\n",
      "dtype: int64\n",
      "Null values counts after filling\n",
      "lat        0\n",
      "long       0\n",
      "city       0\n",
      "county     0\n",
      "state      0\n",
      "zipcode    0\n",
      "dtype: int64\n"
     ]
    }
   ],
   "source": [
    "# Replace charecters with empty str\n",
    "df['zipcode'] = df['zipcode'].str.replace(r\"[a-zA-Z`\\s:]\",\"\", regex=True)\n",
    "df['zipcode'] = df['zipcode'].str.replace(r\"\\-.*$\",\"\", regex=True)\n",
    "\n",
    "# Replace empty str with 0\n",
    "df['zipcode'] = df['zipcode'].str.replace('', '0')\n",
    "\n",
    "# Truncate to only first 5 charecters\n",
    "df['zipcode'] = df['zipcode'].str[:5]\n",
    "print(df.isnull().sum())\n",
    "\n",
    "# Filling null values with 0\n",
    "df['zipcode'].fillna('0', inplace=True)\n",
    "\n",
    "print(\"Null values counts after filling\")\n",
    "print(df.isnull().sum())\n",
    "\n",
    "# Converting str to int\n",
    "df['zipcode'] = df['zipcode'].astype(int)\n"
   ]
  },
  {
   "cell_type": "code",
   "execution_count": 16,
   "id": "0b7a7062",
   "metadata": {},
   "outputs": [
    {
     "name": "stdout",
     "output_type": "stream",
     "text": [
      "<class 'pandas.core.frame.DataFrame'>\n",
      "RangeIndex: 42232 entries, 0 to 42231\n",
      "Data columns (total 6 columns):\n",
      " #   Column   Non-Null Count  Dtype \n",
      "---  ------   --------------  ----- \n",
      " 0   lat      42232 non-null  object\n",
      " 1   long     42232 non-null  object\n",
      " 2   city     42232 non-null  object\n",
      " 3   county   42232 non-null  object\n",
      " 4   state    42232 non-null  object\n",
      " 5   zipcode  42232 non-null  int64 \n",
      "dtypes: int64(1), object(5)\n",
      "memory usage: 1.9+ MB\n"
     ]
    }
   ],
   "source": [
    "df.info()"
   ]
  },
  {
   "cell_type": "markdown",
   "id": "6fd61000",
   "metadata": {},
   "source": [
    "## Step 4. Checking duplicates"
   ]
  },
  {
   "cell_type": "markdown",
   "id": "f61867ce",
   "metadata": {},
   "source": [
    "Now let's check for duplicate rows and remove them."
   ]
  },
  {
   "cell_type": "code",
   "execution_count": 17,
   "id": "23d30e20",
   "metadata": {},
   "outputs": [
    {
     "data": {
      "text/plain": [
       "0"
      ]
     },
     "execution_count": 17,
     "metadata": {},
     "output_type": "execute_result"
    }
   ],
   "source": [
    "df.duplicated().sum()"
   ]
  },
  {
   "cell_type": "markdown",
   "id": "102ff05a",
   "metadata": {},
   "source": [
    "No duplicates found"
   ]
  },
  {
   "cell_type": "markdown",
   "id": "8d247caf",
   "metadata": {},
   "source": [
    "## Step 5. Checking for Outliers"
   ]
  },
  {
   "cell_type": "code",
   "execution_count": 18,
   "id": "db1cbc51",
   "metadata": {},
   "outputs": [
    {
     "data": {
      "text/plain": [
       "<AxesSubplot:xlabel='zipcode'>"
      ]
     },
     "execution_count": 18,
     "metadata": {},
     "output_type": "execute_result"
    },
    {
     "data": {
      "image/png": "[encoded data removed]",
      "text/plain": [
       "<Figure size 432x288 with 1 Axes>"
      ]
     },
     "metadata": {
      "needs_background": "light"
     },
     "output_type": "display_data"
    }
   ],
   "source": [
    "import seaborn as sns\n",
    "\n",
    "sns.boxplot(x=df['zipcode'])"
   ]
  },
  {
   "cell_type": "markdown",
   "id": "3abad6b8",
   "metadata": {},
   "source": [
    "This data doesn't contain outliers"
   ]
  }
 ],
 "metadata": {
  "kernelspec": {
   "display_name": "Python 3 (ipykernel)",
   "language": "python",
   "name": "python3"
  },
  "language_info": {
   "codemirror_mode": {
    "name": "ipython",
    "version": 3
   },
   "file_extension": ".py",
   "mimetype": "text/x-python",
   "name": "python",
   "nbconvert_exporter": "python",
   "pygments_lexer": "ipython3",
   "version": "3.9.7"
  }
 },
 "nbformat": 4,
 "nbformat_minor": 5
}
