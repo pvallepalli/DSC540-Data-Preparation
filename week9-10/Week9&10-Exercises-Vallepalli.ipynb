{
 "cells": [
  {
   "cell_type": "markdown",
   "id": "7b834c04",
   "metadata": {},
   "source": [
    "# Activity 11"
   ]
  },
  {
   "cell_type": "code",
   "execution_count": 1,
   "id": "a508fd0d",
   "metadata": {},
   "outputs": [],
   "source": [
    "import sqlite3"
   ]
  },
  {
   "cell_type": "markdown",
   "id": "efe118aa",
   "metadata": {},
   "source": [
    "### Connect to petsDB and check whether the connection has been successful."
   ]
  },
  {
   "cell_type": "code",
   "execution_count": 2,
   "id": "e22456ed",
   "metadata": {},
   "outputs": [],
   "source": [
    "# connect to the sqlite database\n",
    "conn = sqlite3.connect(\"petsdb.db\")"
   ]
  },
  {
   "cell_type": "code",
   "execution_count": 3,
   "id": "86ae326d",
   "metadata": {},
   "outputs": [],
   "source": [
    "# Function to check if connection is open\n",
    "def chk_conn(conn):\n",
    "     try:\n",
    "        conn.cursor()\n",
    "        return True\n",
    "     except Exception as ex:\n",
    "        return False"
   ]
  },
  {
   "cell_type": "code",
   "execution_count": 4,
   "id": "f8815635",
   "metadata": {
    "scrolled": true
   },
   "outputs": [
    {
     "name": "stdout",
     "output_type": "stream",
     "text": [
      "Connected: True\n"
     ]
    }
   ],
   "source": [
    "is_connected = chk_conn(conn)\n",
    "print(f\"Connected: {is_connected}\")"
   ]
  },
  {
   "cell_type": "code",
   "execution_count": 5,
   "id": "9b614b92",
   "metadata": {},
   "outputs": [
    {
     "name": "stdout",
     "output_type": "stream",
     "text": [
      "Connected: False\n"
     ]
    }
   ],
   "source": [
    "# checking if connection status returns false if closed\n",
    "conn.close()\n",
    "print(f\"Connected: {chk_conn(conn)}\")"
   ]
  },
  {
   "cell_type": "markdown",
   "id": "962fa3a7",
   "metadata": {},
   "source": [
    "### Find the different age groups in the persons database."
   ]
  },
  {
   "cell_type": "code",
   "execution_count": 6,
   "id": "614df51d",
   "metadata": {},
   "outputs": [
    {
     "name": "stdout",
     "output_type": "stream",
     "text": [
      "Connected: True\n"
     ]
    }
   ],
   "source": [
    "conn = sqlite3.connect(\"petsdb.db\")\n",
    "print(f\"Connected: {chk_conn(conn)}\")"
   ]
  },
  {
   "cell_type": "code",
   "execution_count": 7,
   "id": "d7c19dce",
   "metadata": {},
   "outputs": [
    {
     "name": "stdout",
     "output_type": "stream",
     "text": [
      "Age\tCount\n",
      "6\t1\n",
      "7\t1\n",
      "9\t1\n",
      "13\t1\n",
      "19\t1\n",
      "27\t1\n",
      "30\t1\n",
      "32\t1\n",
      "33\t1\n",
      "37\t1\n",
      "40\t1\n",
      "42\t1\n",
      "49\t1\n",
      "50\t1\n",
      "58\t1\n",
      "59\t1\n",
      "60\t1\n",
      "61\t1\n",
      "63\t1\n",
      "67\t1\n",
      "69\t1\n",
      "70\t1\n",
      "72\t1\n",
      "5\t2\n",
      "11\t2\n",
      "16\t2\n",
      "17\t2\n",
      "23\t2\n",
      "25\t2\n",
      "34\t2\n",
      "39\t2\n",
      "44\t2\n",
      "48\t2\n",
      "51\t2\n",
      "52\t2\n",
      "53\t2\n",
      "54\t2\n",
      "62\t2\n",
      "65\t2\n",
      "66\t2\n",
      "8\t3\n",
      "12\t3\n",
      "18\t3\n",
      "22\t3\n",
      "24\t3\n",
      "31\t3\n",
      "35\t3\n",
      "36\t3\n",
      "68\t3\n",
      "74\t3\n",
      "14\t4\n",
      "71\t4\n",
      "73\t5\n"
     ]
    }
   ],
   "source": [
    "curr = conn.cursor()\n",
    "# curr.execute('SELECT count(*), age FROM persons GROUP BY age')\n",
    "curr.execute('SELECT age, count(age) FROM persons GROUP BY age ORDER BY count(age);')\n",
    "rows = curr.fetchall()\n",
    "print(f\"Age\\tCount\")\n",
    "for age, count in rows:\n",
    "    print(f\"{age}\\t{count}\")"
   ]
  },
  {
   "cell_type": "markdown",
   "id": "59bae7c5",
   "metadata": {},
   "source": [
    "### Find the age group that has the maximum number of people."
   ]
  },
  {
   "cell_type": "code",
   "execution_count": 8,
   "id": "5b7f3449",
   "metadata": {},
   "outputs": [
    {
     "name": "stdout",
     "output_type": "stream",
     "text": [
      "Age group 73 has the maximum number of people: 5\n"
     ]
    }
   ],
   "source": [
    "curr.execute('SELECT age, count(age) FROM persons GROUP BY age ORDER BY count(age) DESC limit 1;')\n",
    "rows = curr.fetchall()\n",
    "for age, count in rows:\n",
    "    print(f\"Age group {age} has the maximum number of people: {count}\")"
   ]
  },
  {
   "cell_type": "code",
   "execution_count": 9,
   "id": "b94a1163",
   "metadata": {},
   "outputs": [],
   "source": [
    "### Find the people who do not have a last name."
   ]
  },
  {
   "cell_type": "code",
   "execution_count": 10,
   "id": "9fbdc83c",
   "metadata": {},
   "outputs": [
    {
     "name": "stdout",
     "output_type": "stream",
     "text": [
      "(1, 'Erica', None, 22, 'south port', 2345678)\n",
      "(2, 'Jordi', None, 73, 'east port', 123456)\n",
      "(3, 'Chasity', None, 70, 'new port', 76856785)\n",
      "(4, 'Gregg', None, 31, 'new port', 76856785)\n",
      "(6, 'Cary', None, 73, 'new port', 76856785)\n",
      "(8, 'Francisca', None, 14, 'west port', 123456)\n",
      "(10, 'Raleigh', None, 68, 'new port', 2345678)\n",
      "(11, 'Maria', None, 42, 'west port', 123456)\n",
      "(12, 'Mariane', None, 62, 'south port', 9756543)\n",
      "(13, 'Mona', None, 44, 'south port', 76856785)\n",
      "(14, 'Kayla', None, 36, 'south port', 2345678)\n",
      "(15, 'Karlie', None, 35, 'west port', 123456)\n",
      "(16, 'Morris', None, 71, 'west port', 76856785)\n",
      "(17, 'Sandy', None, 23, 'east port', 2345678)\n",
      "(18, 'Hector', None, 63, 'east port', 9756543)\n",
      "(19, 'Hiram', None, 52, 'west port', 2345678)\n",
      "(20, 'Tressa', None, 59, 'new port', 123456)\n",
      "(21, 'Berry', None, 22, 'south port', 2345678)\n",
      "(22, 'Pearline', None, 73, 'new port', 9756543)\n",
      "(23, 'Maynard', None, 25, 'east port', 123456)\n",
      "(24, 'Dorian', None, 40, 'east port', 123456)\n",
      "(25, 'Mylene', None, 5, 'east port', 76856785)\n",
      "(26, 'Lafayette', None, 34, 'new port', 2345678)\n",
      "(29, 'Tara', None, 39, 'west port', 123456)\n",
      "(30, 'Destiny', None, 18, 'south port', 2345678)\n",
      "(31, 'Lesly', None, 31, 'west port', 123456)\n",
      "(32, 'Perry', None, 19, 'south port', 76856785)\n",
      "(35, 'Maritza', None, 73, 'east port', 9756543)\n",
      "(37, 'Grant', None, 61, 'east port', 76856785)\n",
      "(39, 'Laury', None, 17, 'east port', 9756543)\n",
      "(40, 'Name', None, 52, 'east port', 9756543)\n",
      "(41, 'Estefania', None, 32, 'new port', 76856785)\n",
      "(42, 'Destiney', None, 65, 'west port', 2345678)\n",
      "(43, 'Jaquelin', None, 73, 'west port', 9756543)\n",
      "(45, 'Alfonzo', None, 16, 'east port', 2345678)\n",
      "(46, 'Lisandro', None, 11, 'new port', 76856785)\n",
      "(49, 'Priscilla', None, 65, 'east port', 76856785)\n",
      "(50, 'Elenora', None, 11, 'new port', 76856785)\n",
      "(52, 'Rudolph', None, 14, 'east port', 76856785)\n",
      "(56, 'Ona', None, 35, 'east port', 9756543)\n",
      "(57, 'Rebeca', None, 50, 'new port', 76856785)\n",
      "(59, 'Sigurd', None, 12, 'west port', 76856785)\n",
      "(63, 'Alice', None, 8, 'west port', 76856785)\n",
      "(64, 'Dane', None, 24, 'west port', 9756543)\n",
      "(65, 'Judge', None, 17, 'south port', 76856785)\n",
      "(66, 'Allene', None, 9, 'new port', 9756543)\n",
      "(67, 'Jalen', None, 33, 'new port', 2345678)\n",
      "(70, 'Myron', None, 36, 'new port', 9756543)\n",
      "(73, 'Travon', None, 16, 'south port', 2345678)\n",
      "(74, 'Shayna', None, 60, 'new port', 2345678)\n",
      "(75, 'Myah', None, 14, 'east port', 2345678)\n",
      "(82, 'Letha', None, 44, 'new port', 9756543)\n",
      "(84, 'Felton', None, 74, 'east port', 2345678)\n",
      "(85, 'London', None, 66, 'east port', 9756543)\n",
      "(86, 'Koby', None, 31, 'west port', 9756543)\n",
      "(87, 'Golden', None, 35, 'east port', 76856785)\n",
      "(89, 'Anissa', None, 8, 'south port', 76856785)\n",
      "(91, 'Sid', None, 22, 'west port', 123456)\n",
      "(96, 'Ernesto', None, 69, 'east port', 9756543)\n",
      "(97, 'Josianne', None, 14, 'west port', 76856785)\n"
     ]
    }
   ],
   "source": [
    "curr.execute(\"SELECT * FROM persons WHERE last_name IS null;\")\n",
    "rows = curr.fetchall()\n",
    "for row in rows:\n",
    "    print(row)"
   ]
  },
  {
   "cell_type": "markdown",
   "id": "a9e4f711",
   "metadata": {},
   "source": [
    "### Find out how many people have more than one pet."
   ]
  },
  {
   "cell_type": "code",
   "execution_count": 11,
   "id": "15a83861",
   "metadata": {},
   "outputs": [
    {
     "name": "stdout",
     "output_type": "stream",
     "text": [
      "43 people have more than one pet\n"
     ]
    }
   ],
   "source": [
    "curr.execute(\"SELECT count(*) FROM (SELECT count(owner_id) FROM pets GROUP BY owner_id HAVING count(owner_id) >1);\")\n",
    "rows = curr.fetchall()\n",
    "for count, in rows:\n",
    "    print(f\"{count} people have more than one pet\")"
   ]
  },
  {
   "cell_type": "markdown",
   "id": "9271c85f",
   "metadata": {},
   "source": [
    "### Find out how many pets have received treatment."
   ]
  },
  {
   "cell_type": "code",
   "execution_count": 12,
   "id": "883339df",
   "metadata": {},
   "outputs": [
    {
     "name": "stdout",
     "output_type": "stream",
     "text": [
      "36 pets have received treatment\n"
     ]
    }
   ],
   "source": [
    "curr.execute(\"SELECT count(*) FROM pets WHERE treatment_done=1;\")\n",
    "rows = curr.fetchall()\n",
    "for count, in rows:\n",
    "    print(f\"{count} pets have received treatment\")"
   ]
  },
  {
   "cell_type": "markdown",
   "id": "0c830b62",
   "metadata": {},
   "source": [
    "### Find out how many pets have received treatment and the type of pet is known."
   ]
  },
  {
   "cell_type": "code",
   "execution_count": 13,
   "id": "0ed7eb5a",
   "metadata": {},
   "outputs": [
    {
     "name": "stdout",
     "output_type": "stream",
     "text": [
      "16 pets have received treatment and the type of pet is known\n"
     ]
    }
   ],
   "source": [
    "curr.execute(\"SELECT count(*) FROM pets WHERE treatment_done=1 AND pet_type IS NOT null;\")\n",
    "rows = curr.fetchall()\n",
    "for count, in rows:\n",
    "    print(f\"{count} pets have received treatment and the type of pet is known\")"
   ]
  },
  {
   "cell_type": "markdown",
   "id": "ea6c2a88",
   "metadata": {},
   "source": [
    "### Find out how many pets are from the city called east port."
   ]
  },
  {
   "cell_type": "code",
   "execution_count": 14,
   "id": "7731650e",
   "metadata": {},
   "outputs": [
    {
     "name": "stdout",
     "output_type": "stream",
     "text": [
      "49 pets are from the city called east port\n"
     ]
    }
   ],
   "source": [
    "curr.execute(\"SELECT count(*) FROM pets JOIN persons ON pets.owner_id = persons.id WHERE persons.city='east port';\")\n",
    "rows = curr.fetchall()\n",
    "for count, in rows:\n",
    "    print(f\"{count} pets are from the city called east port\")"
   ]
  },
  {
   "cell_type": "markdown",
   "id": "9c90d3c0",
   "metadata": {},
   "source": [
    "### Find out how many pets are from the city called east port and who received a treatment."
   ]
  },
  {
   "cell_type": "code",
   "execution_count": 15,
   "id": "435af2d1",
   "metadata": {},
   "outputs": [
    {
     "name": "stdout",
     "output_type": "stream",
     "text": [
      "11 pets are from the city called east port and who received a treatment\n"
     ]
    }
   ],
   "source": [
    "curr.execute(\"SELECT count(*) FROM pets JOIN persons ON pets.owner_id = persons.id WHERE persons.city='east port' AND pets.treatment_done=1;\")\n",
    "rows = curr.fetchall()\n",
    "for count, in rows:\n",
    "    print(f\"{count} pets are from the city called east port and who received a treatment\")"
   ]
  }
 ],
 "metadata": {
  "kernelspec": {
   "display_name": "Python 3 (ipykernel)",
   "language": "python",
   "name": "python3"
  },
  "language_info": {
   "codemirror_mode": {
    "name": "ipython",
    "version": 3
   },
   "file_extension": ".py",
   "mimetype": "text/x-python",
   "name": "python",
   "nbconvert_exporter": "python",
   "pygments_lexer": "ipython3",
   "version": "3.9.7"
  }
 },
 "nbformat": 4,
 "nbformat_minor": 5
}
