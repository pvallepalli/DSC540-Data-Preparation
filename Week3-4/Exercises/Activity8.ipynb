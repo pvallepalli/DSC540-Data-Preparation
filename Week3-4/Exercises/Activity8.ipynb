{
 "cells": [
  {
   "cell_type": "code",
   "execution_count": 1,
   "metadata": {},
   "outputs": [],
   "source": [
    "import pandas as pd\n",
    "import numpy as np\n",
    "import matplotlib.pyplot as plt\n",
    "\n",
    "%matplotlib inline"
   ]
  },
  {
   "cell_type": "code",
   "execution_count": 2,
   "metadata": {},
   "outputs": [],
   "source": [
    "df = pd.read_csv(\"visit_data.csv\")"
   ]
  },
  {
   "cell_type": "code",
   "execution_count": 3,
   "metadata": {},
   "outputs": [
    {
     "data": {
      "text/html": [
       "<div>\n",
       "<style scoped>\n",
       "    .dataframe tbody tr th:only-of-type {\n",
       "        vertical-align: middle;\n",
       "    }\n",
       "\n",
       "    .dataframe tbody tr th {\n",
       "        vertical-align: top;\n",
       "    }\n",
       "\n",
       "    .dataframe thead th {\n",
       "        text-align: right;\n",
       "    }\n",
       "</style>\n",
       "<table border=\"1\" class=\"dataframe\">\n",
       "  <thead>\n",
       "    <tr style=\"text-align: right;\">\n",
       "      <th></th>\n",
       "      <th>id</th>\n",
       "      <th>first_name</th>\n",
       "      <th>last_name</th>\n",
       "      <th>email</th>\n",
       "      <th>gender</th>\n",
       "      <th>ip_address</th>\n",
       "      <th>visit</th>\n",
       "    </tr>\n",
       "  </thead>\n",
       "  <tbody>\n",
       "    <tr>\n",
       "      <th>0</th>\n",
       "      <td>1</td>\n",
       "      <td>Sonny</td>\n",
       "      <td>Dahl</td>\n",
       "      <td>sdahl0@mysql.com</td>\n",
       "      <td>Male</td>\n",
       "      <td>135.36.96.183</td>\n",
       "      <td>1225.0</td>\n",
       "    </tr>\n",
       "    <tr>\n",
       "      <th>1</th>\n",
       "      <td>2</td>\n",
       "      <td>NaN</td>\n",
       "      <td>NaN</td>\n",
       "      <td>dhoovart1@hud.gov</td>\n",
       "      <td>NaN</td>\n",
       "      <td>237.165.194.143</td>\n",
       "      <td>919.0</td>\n",
       "    </tr>\n",
       "    <tr>\n",
       "      <th>2</th>\n",
       "      <td>3</td>\n",
       "      <td>Gar</td>\n",
       "      <td>Armal</td>\n",
       "      <td>garmal2@technorati.com</td>\n",
       "      <td>NaN</td>\n",
       "      <td>166.43.137.224</td>\n",
       "      <td>271.0</td>\n",
       "    </tr>\n",
       "    <tr>\n",
       "      <th>3</th>\n",
       "      <td>4</td>\n",
       "      <td>Chiarra</td>\n",
       "      <td>Nulty</td>\n",
       "      <td>cnulty3@newyorker.com</td>\n",
       "      <td>NaN</td>\n",
       "      <td>139.98.137.108</td>\n",
       "      <td>1002.0</td>\n",
       "    </tr>\n",
       "    <tr>\n",
       "      <th>4</th>\n",
       "      <td>5</td>\n",
       "      <td>NaN</td>\n",
       "      <td>NaN</td>\n",
       "      <td>sleaver4@elegantthemes.com</td>\n",
       "      <td>NaN</td>\n",
       "      <td>46.117.117.27</td>\n",
       "      <td>2434.0</td>\n",
       "    </tr>\n",
       "  </tbody>\n",
       "</table>\n",
       "</div>"
      ],
      "text/plain": [
       "   id first_name last_name                       email gender  \\\n",
       "0   1      Sonny      Dahl            sdahl0@mysql.com   Male   \n",
       "1   2        NaN       NaN           dhoovart1@hud.gov    NaN   \n",
       "2   3        Gar     Armal      garmal2@technorati.com    NaN   \n",
       "3   4    Chiarra     Nulty       cnulty3@newyorker.com    NaN   \n",
       "4   5        NaN       NaN  sleaver4@elegantthemes.com    NaN   \n",
       "\n",
       "        ip_address   visit  \n",
       "0    135.36.96.183  1225.0  \n",
       "1  237.165.194.143   919.0  \n",
       "2   166.43.137.224   271.0  \n",
       "3   139.98.137.108  1002.0  \n",
       "4    46.117.117.27  2434.0  "
      ]
     },
     "execution_count": 3,
     "metadata": {},
     "output_type": "execute_result"
    }
   ],
   "source": [
    "df.head()"
   ]
  },
  {
   "cell_type": "markdown",
   "metadata": {},
   "source": [
    "As we can see that there are data where some values are missing and if we exmine we will see some outliers"
   ]
  },
  {
   "cell_type": "code",
   "execution_count": 4,
   "metadata": {},
   "outputs": [
    {
     "name": "stdout",
     "output_type": "stream",
     "text": [
      "First name is duplictaed - True\n",
      "Last name is duplictaed - True\n",
      "Email is duplictaed - False\n"
     ]
    }
   ],
   "source": [
    "print(\"First name is duplictaed - {}\".format(any(df.first_name.duplicated())))\n",
    "print(\"Last name is duplictaed - {}\".format(any(df.last_name.duplicated())))\n",
    "print(\"Email is duplictaed - {}\".format(any(df.email.duplicated())))"
   ]
  },
  {
   "cell_type": "markdown",
   "metadata": {},
   "source": [
    "There are duplicates in both First and Last names. Which is normal. However, as we can see, there is no duplicate in email"
   ]
  },
  {
   "cell_type": "code",
   "execution_count": 5,
   "metadata": {},
   "outputs": [
    {
     "name": "stdout",
     "output_type": "stream",
     "text": [
      "The column Email contains NaN - False\n",
      "The column IP Address contains NaN - False\n",
      "The column Visit contains NaN - True\n"
     ]
    }
   ],
   "source": [
    "print(f\"The column Email contains NaN - {df.email.isnull().values.any()}\")\n",
    "print(f\"The column IP Address contains NaN - {df.ip_address.isnull().values.any()}\")\n",
    "print(f\"The column Visit contains NaN - {df.visit.isnull().values.any()}\")"
   ]
  },
  {
   "cell_type": "code",
   "execution_count": 6,
   "metadata": {},
   "outputs": [],
   "source": [
    "size_prev = df.shape\n",
    "df = df[np.isfinite(df['visit'])]\n",
    "size_after = df.shape"
   ]
  },
  {
   "cell_type": "code",
   "execution_count": 7,
   "metadata": {},
   "outputs": [
    {
     "name": "stdout",
     "output_type": "stream",
     "text": [
      "The size of previous data was - 1000 rows and the size of the new one is - 974 rows\n"
     ]
    }
   ],
   "source": [
    "print(f\"The size of previous data was - {size_prev[0]} rows and the size of the new one is - {size_after[0]} rows\")"
   ]
  },
  {
   "cell_type": "code",
   "execution_count": 8,
   "metadata": {},
   "outputs": [
    {
     "data": {
      "text/plain": [
       "{'whiskers': [<matplotlib.lines.Line2D at 0x7fd8597988e0>,\n",
       "  <matplotlib.lines.Line2D at 0x7fd859798bb0>],\n",
       " 'caps': [<matplotlib.lines.Line2D at 0x7fd859798f40>,\n",
       "  <matplotlib.lines.Line2D at 0x7fd8500df310>],\n",
       " 'boxes': [<matplotlib.lines.Line2D at 0x7fd859798490>],\n",
       " 'medians': [<matplotlib.lines.Line2D at 0x7fd8500df6a0>],\n",
       " 'fliers': [<matplotlib.lines.Line2D at 0x7fd8500dfa30>],\n",
       " 'means': []}"
      ]
     },
     "execution_count": 8,
     "metadata": {},
     "output_type": "execute_result"
    },
    {
     "data": {
      "image/png": "[encoded data removed]",
      "text/plain": [
       "<Figure size 432x288 with 1 Axes>"
      ]
     },
     "metadata": {
      "needs_background": "light"
     },
     "output_type": "display_data"
    }
   ],
   "source": [
    "plt.boxplot(df.visit, notch=True)"
   ]
  },
  {
   "cell_type": "code",
   "execution_count": 9,
   "metadata": {},
   "outputs": [
    {
     "name": "stdout",
     "output_type": "stream",
     "text": [
      "After removing outliers the new size of the data is - 923\n"
     ]
    }
   ],
   "source": [
    "df1 = df[(df['visit'] <= 2900) & (df['visit'] >= 100)]\n",
    "print(\"After removing outliers the new size of the data is - {}\".format(*df1.shape))"
   ]
  },
  {
   "cell_type": "markdown",
   "metadata": {},
   "source": [
    "### SQL Lite database operations"
   ]
  },
  {
   "cell_type": "code",
   "execution_count": 10,
   "metadata": {},
   "outputs": [],
   "source": [
    "import sqlite3\n",
    "conn = sqlite3.connect('samplesqlitedb.db')\n",
    "c = conn.cursor()\n",
    "c.execute('''DROP TABLE People''')\n",
    "c.execute('''CREATE TABLE People(Name VARCHAR(255),\n",
    "    Address VARCHAR(255),\n",
    "    City VARCHAR(255),\n",
    "    State VARCHAR (255),\n",
    "    Zip integer,\n",
    "    Phone_Number integer)''')\n",
    "conn.commit()"
   ]
  },
  {
   "cell_type": "code",
   "execution_count": 11,
   "metadata": {},
   "outputs": [],
   "source": [
    "conn = sqlite3.connect('samplesqlitedb.db')\n",
    "c = conn.cursor()\n",
    "records=[('Pradeep', '11009 R PLZ', 'Omaha','NE',68137,1023456781),\n",
    "('Nava', '13600 Pyrite Dr', 'Austin','TX',78729,1032345672),\n",
    "('Madhu', '1110 W Russel ST', 'Peoria','IL',61606,1032345697),\n",
    "('Vamshi', '1110 W Russel ST', 'Peoria','IL',61606,1032345648),\n",
    "('Biden', '1600 Pennsylvania Avenue', 'Washington','DC',20500,1111111111),\n",
    "('Hopper', 'XYZ Street', 'Newyork','NY',10328,1032345650),\n",
    "('Tesla', 'ABC ST', 'Chicago','IL',61429,1020306070),\n",
    "('Romeo', 'DEF ST', 'Paris','NV',92165,1041432067),\n",
    "('Ben', '1111 Rodeo ST', 'Dallas','TX',75055,1100033345),\n",
    "('Greg', '1 Nowhere ST', 'Miami','FL',32012,2340001234)]\n",
    "c.executemany('INSERT INTO People VALUES(?,?,?,?,?,?)',records)\n",
    "conn.commit()"
   ]
  },
  {
   "cell_type": "code",
   "execution_count": 12,
   "metadata": {},
   "outputs": [
    {
     "name": "stdout",
     "output_type": "stream",
     "text": [
      "('Pradeep', '11009 R PLZ', 'Omaha', 'NE', 68137, 1023456781)\n",
      "('Nava', '13600 Pyrite Dr', 'Austin', 'TX', 78729, 1032345672)\n",
      "('Madhu', '1110 W Russel ST', 'Peoria', 'IL', 61606, 1032345697)\n",
      "('Vamshi', '1110 W Russel ST', 'Peoria', 'IL', 61606, 1032345648)\n",
      "('Biden', '1600 Pennsylvania Avenue', 'Washington', 'DC', 20500, 1111111111)\n",
      "('Hopper', 'XYZ Street', 'Newyork', 'NY', 10328, 1032345650)\n",
      "('Tesla', 'ABC ST', 'Chicago', 'IL', 61429, 1020306070)\n",
      "('Romeo', 'DEF ST', 'Paris', 'NV', 92165, 1041432067)\n",
      "('Ben', '1111 Rodeo ST', 'Dallas', 'TX', 75055, 1100033345)\n",
      "('Greg', '1 Nowhere ST', 'Miami', 'FL', 32012, 2340001234)\n"
     ]
    }
   ],
   "source": [
    "c.execute('''SELECT * FROM People;''')\n",
    "rows = c.fetchall() \n",
    "for row in rows:\n",
    "    print(row)\n",
    "    conn.close()"
   ]
  }
 ],
 "metadata": {
  "kernelspec": {
   "display_name": "Python 3 (ipykernel)",
   "language": "python",
   "name": "python3"
  },
  "language_info": {
   "codemirror_mode": {
    "name": "ipython",
    "version": 3
   },
   "file_extension": ".py",
   "mimetype": "text/x-python",
   "name": "python",
   "nbconvert_exporter": "python",
   "pygments_lexer": "ipython3",
   "version": "3.9.7"
  }
 },
 "nbformat": 4,
 "nbformat_minor": 2
}
