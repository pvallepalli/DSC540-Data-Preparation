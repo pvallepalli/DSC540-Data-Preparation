{
 "cells": [
  {
   "cell_type": "code",
   "execution_count": 1,
   "id": "1f04c0b5",
   "metadata": {},
   "outputs": [],
   "source": [
    "import requests\n",
    "import pandas as pd\n",
    "from bs4 import BeautifulSoup\n",
    "import seaborn as sns\n",
    "import numpy as np"
   ]
  },
  {
   "cell_type": "code",
   "execution_count": 2,
   "id": "32ec47d7",
   "metadata": {},
   "outputs": [],
   "source": [
    "def get_table_data(url, table_class):\n",
    "    # GET the webpage using requests\n",
    "    page = requests.get(url)\n",
    "    if page.status_code == 200:\n",
    "        soup = BeautifulSoup(page.content, 'html.parser')\n",
    "        data_table = soup.find(\"table\", {\"class\": table_class})\n",
    "        \n",
    "        # Read the headers from the table\n",
    "        header_data = data_table.thead.findAll('tr')[0]\n",
    "        headers = [th.a.text for th in header_data.findAll('th')]\n",
    "        \n",
    "        # Read the rows from the table\n",
    "        row_data = data_table.findAll('tbody')[0].findAll('tr')\n",
    "        rows = [[td.get_text().strip() for td in tr.findAll('td')] for tr in row_data]\n",
    "        \n",
    "        # Return a tuple of headers and rows\n",
    "        return headers, rows\n",
    "    \n",
    "    return None, None"
   ]
  },
  {
   "cell_type": "code",
   "execution_count": 3,
   "id": "9d46e8a4",
   "metadata": {},
   "outputs": [],
   "source": [
    "# This will read the list of states and its population from a table\n",
    "states_header, states_data = get_table_data(\"https://worldpopulationreview.com/states\", 'jsx-2006211681')"
   ]
  },
  {
   "cell_type": "code",
   "execution_count": 4,
   "id": "1c72c103",
   "metadata": {},
   "outputs": [
    {
     "data": {
      "text/plain": [
       "54"
      ]
     },
     "execution_count": 4,
     "metadata": {},
     "output_type": "execute_result"
    }
   ],
   "source": [
    "# Parse the table data and store the state names in a list\n",
    "states = [data[1].replace(\" \", \"-\").lower() for data in states_data]\n",
    "states = states + ['district-of-columbia', 'puerto-rico', 'nebraska', 'texas']\n",
    "len(states)"
   ]
  },
  {
   "cell_type": "code",
   "execution_count": 5,
   "id": "43ad5204",
   "metadata": {},
   "outputs": [],
   "source": [
    "all_rows = []\n",
    "\n",
    "# Zipcodes are listed by state. We iterate through each state to read the table and store append the data to the list\n",
    "for state in states:\n",
    "   headers, rows = get_table_data(f\"https://worldpopulationreview.com/zips/{state}\", 'jsx-2567515043')\n",
    "   all_rows = all_rows + rows"
   ]
  },
  {
   "cell_type": "code",
   "execution_count": 6,
   "id": "f26d0ef2",
   "metadata": {},
   "outputs": [],
   "source": [
    "# Loading the rows and headers to a dataframe\n",
    "df = pd.DataFrame(all_rows, columns=headers)"
   ]
  },
  {
   "cell_type": "code",
   "execution_count": 7,
   "id": "aeba5d77",
   "metadata": {},
   "outputs": [
    {
     "data": {
      "text/html": [
       "<div>\n",
       "<style scoped>\n",
       "    .dataframe tbody tr th:only-of-type {\n",
       "        vertical-align: middle;\n",
       "    }\n",
       "\n",
       "    .dataframe tbody tr th {\n",
       "        vertical-align: top;\n",
       "    }\n",
       "\n",
       "    .dataframe thead th {\n",
       "        text-align: right;\n",
       "    }\n",
       "</style>\n",
       "<table border=\"1\" class=\"dataframe\">\n",
       "  <thead>\n",
       "    <tr style=\"text-align: right;\">\n",
       "      <th></th>\n",
       "      <th>Zip Code</th>\n",
       "      <th>City</th>\n",
       "      <th>County</th>\n",
       "      <th>Population</th>\n",
       "    </tr>\n",
       "  </thead>\n",
       "  <tbody>\n",
       "    <tr>\n",
       "      <th>0</th>\n",
       "      <td>90011</td>\n",
       "      <td>Los Angeles</td>\n",
       "      <td>Los Angeles County</td>\n",
       "      <td>111,165</td>\n",
       "    </tr>\n",
       "    <tr>\n",
       "      <th>1</th>\n",
       "      <td>91331</td>\n",
       "      <td>Pacoima</td>\n",
       "      <td>Los Angeles County</td>\n",
       "      <td>105,458</td>\n",
       "    </tr>\n",
       "    <tr>\n",
       "      <th>2</th>\n",
       "      <td>90650</td>\n",
       "      <td>Norwalk</td>\n",
       "      <td>Los Angeles County</td>\n",
       "      <td>105,304</td>\n",
       "    </tr>\n",
       "    <tr>\n",
       "      <th>3</th>\n",
       "      <td>90201</td>\n",
       "      <td>Bell</td>\n",
       "      <td>Los Angeles County</td>\n",
       "      <td>101,965</td>\n",
       "    </tr>\n",
       "    <tr>\n",
       "      <th>4</th>\n",
       "      <td>90044</td>\n",
       "      <td>Los Angeles</td>\n",
       "      <td>Los Angeles County</td>\n",
       "      <td>99,443</td>\n",
       "    </tr>\n",
       "    <tr>\n",
       "      <th>...</th>\n",
       "      <td>...</td>\n",
       "      <td>...</td>\n",
       "      <td>...</td>\n",
       "      <td>...</td>\n",
       "    </tr>\n",
       "    <tr>\n",
       "      <th>35376</th>\n",
       "      <td>79051</td>\n",
       "      <td>Kerrick</td>\n",
       "      <td>Dallam County</td>\n",
       "      <td></td>\n",
       "    </tr>\n",
       "    <tr>\n",
       "      <th>35377</th>\n",
       "      <td>79058</td>\n",
       "      <td>Masterson</td>\n",
       "      <td>Moore County</td>\n",
       "      <td></td>\n",
       "    </tr>\n",
       "    <tr>\n",
       "      <th>35378</th>\n",
       "      <td>79105</td>\n",
       "      <td>Amarillo</td>\n",
       "      <td>Potter County</td>\n",
       "      <td></td>\n",
       "    </tr>\n",
       "    <tr>\n",
       "      <th>35379</th>\n",
       "      <td>79759</td>\n",
       "      <td>Notrees</td>\n",
       "      <td>Ector County</td>\n",
       "      <td></td>\n",
       "    </tr>\n",
       "    <tr>\n",
       "      <th>35380</th>\n",
       "      <td>79770</td>\n",
       "      <td>Orla</td>\n",
       "      <td>Reeves County</td>\n",
       "      <td></td>\n",
       "    </tr>\n",
       "  </tbody>\n",
       "</table>\n",
       "<p>35381 rows × 4 columns</p>\n",
       "</div>"
      ],
      "text/plain": [
       "      Zip Code         City              County   Population  \n",
       "0          90011  Los Angeles  Los Angeles County      111,165\n",
       "1          91331      Pacoima  Los Angeles County      105,458\n",
       "2          90650      Norwalk  Los Angeles County      105,304\n",
       "3          90201         Bell  Los Angeles County      101,965\n",
       "4          90044  Los Angeles  Los Angeles County       99,443\n",
       "...          ...          ...                 ...          ...\n",
       "35376      79051      Kerrick       Dallam County             \n",
       "35377      79058    Masterson        Moore County             \n",
       "35378      79105     Amarillo       Potter County             \n",
       "35379      79759      Notrees        Ector County             \n",
       "35380      79770         Orla       Reeves County             \n",
       "\n",
       "[35381 rows x 4 columns]"
      ]
     },
     "execution_count": 7,
     "metadata": {},
     "output_type": "execute_result"
    }
   ],
   "source": [
    "df"
   ]
  },
  {
   "cell_type": "markdown",
   "id": "9fe0f1a3",
   "metadata": {},
   "source": [
    "### Step 1. Removing white spaces from column names"
   ]
  },
  {
   "cell_type": "markdown",
   "id": "83621a27",
   "metadata": {},
   "source": [
    "Column names have unwanted spaces. Lets remove the extra spaces from the data"
   ]
  },
  {
   "cell_type": "code",
   "execution_count": 8,
   "id": "d74e9a0e",
   "metadata": {},
   "outputs": [
    {
     "data": {
      "text/plain": [
       "Index(['Zip Code  ', 'City  ', 'County  ', 'Population  '], dtype='object')"
      ]
     },
     "execution_count": 8,
     "metadata": {},
     "output_type": "execute_result"
    }
   ],
   "source": [
    "df.columns"
   ]
  },
  {
   "cell_type": "code",
   "execution_count": 9,
   "id": "07ce7922",
   "metadata": {},
   "outputs": [
    {
     "data": {
      "text/plain": [
       "Index(['ZipCode', 'City', 'County', 'Population'], dtype='object')"
      ]
     },
     "execution_count": 9,
     "metadata": {},
     "output_type": "execute_result"
    }
   ],
   "source": [
    "df.columns = df.columns.str.replace(' ','')\n",
    "df.columns"
   ]
  },
  {
   "cell_type": "markdown",
   "id": "a26deac3",
   "metadata": {},
   "source": [
    "### Step 2. Converting Population from str to int"
   ]
  },
  {
   "cell_type": "markdown",
   "id": "a4acaaeb",
   "metadata": {},
   "source": [
    "Population data is in str type. Lets convert it to int"
   ]
  },
  {
   "cell_type": "code",
   "execution_count": 10,
   "id": "c1afd032",
   "metadata": {},
   "outputs": [],
   "source": [
    "df['Population'] = df['Population'].str.replace(',','')\n",
    "df['Population'] = df['Population'].replace(r'^\\s*$', 0, regex=True)\n",
    "df['Population'] = df['Population'].astype(int)"
   ]
  },
  {
   "cell_type": "code",
   "execution_count": 11,
   "id": "5dbc83da",
   "metadata": {},
   "outputs": [
    {
     "name": "stdout",
     "output_type": "stream",
     "text": [
      "<class 'pandas.core.frame.DataFrame'>\n",
      "RangeIndex: 35381 entries, 0 to 35380\n",
      "Data columns (total 4 columns):\n",
      " #   Column      Non-Null Count  Dtype \n",
      "---  ------      --------------  ----- \n",
      " 0   ZipCode     35381 non-null  object\n",
      " 1   City        35381 non-null  object\n",
      " 2   County      35381 non-null  object\n",
      " 3   Population  35381 non-null  int64 \n",
      "dtypes: int64(1), object(3)\n",
      "memory usage: 1.1+ MB\n"
     ]
    }
   ],
   "source": [
    "df.info()"
   ]
  },
  {
   "cell_type": "markdown",
   "id": "6d82cce1",
   "metadata": {},
   "source": [
    "### Step 3. Finding the missing values and filling"
   ]
  },
  {
   "cell_type": "markdown",
   "id": "4478bd0e",
   "metadata": {},
   "source": [
    "Lets check for missing values and fill it with median of Population data"
   ]
  },
  {
   "cell_type": "code",
   "execution_count": 12,
   "id": "c1538b0e",
   "metadata": {
    "scrolled": true
   },
   "outputs": [
    {
     "data": {
      "text/plain": [
       "ZipCode       0\n",
       "City          0\n",
       "County        0\n",
       "Population    0\n",
       "dtype: int64"
      ]
     },
     "execution_count": 12,
     "metadata": {},
     "output_type": "execute_result"
    }
   ],
   "source": [
    "df.isnull().sum()"
   ]
  },
  {
   "cell_type": "code",
   "execution_count": 13,
   "id": "d79de758",
   "metadata": {},
   "outputs": [],
   "source": [
    "# missing values were filled with 0 earlier. Lets use median of population to fill the missing data\n",
    "df[df.Population == 0] = np.nan\n",
    "df.fillna(df['Population'].median(), inplace=True)"
   ]
  },
  {
   "cell_type": "markdown",
   "id": "ea2b18c1",
   "metadata": {},
   "source": [
    "### Step 4. Drop duplicate data"
   ]
  },
  {
   "cell_type": "markdown",
   "id": "6265734c",
   "metadata": {},
   "source": [
    "Now let's check for duplicate rows and remove them."
   ]
  },
  {
   "cell_type": "code",
   "execution_count": 14,
   "id": "834d5155",
   "metadata": {},
   "outputs": [
    {
     "data": {
      "text/plain": [
       "2851"
      ]
     },
     "execution_count": 14,
     "metadata": {},
     "output_type": "execute_result"
    }
   ],
   "source": [
    "df.duplicated().sum()"
   ]
  },
  {
   "cell_type": "code",
   "execution_count": 15,
   "id": "812d8151",
   "metadata": {},
   "outputs": [],
   "source": [
    "# Removing 2510 duplicates found\n",
    "df.drop_duplicates(inplace = True)"
   ]
  },
  {
   "cell_type": "code",
   "execution_count": 16,
   "id": "589d3089",
   "metadata": {},
   "outputs": [
    {
     "data": {
      "text/plain": [
       "0"
      ]
     },
     "execution_count": 16,
     "metadata": {},
     "output_type": "execute_result"
    }
   ],
   "source": [
    "df.duplicated().sum()"
   ]
  },
  {
   "cell_type": "code",
   "execution_count": 17,
   "id": "0d1e62a1",
   "metadata": {
    "scrolled": true
   },
   "outputs": [
    {
     "data": {
      "text/html": [
       "<div>\n",
       "<style scoped>\n",
       "    .dataframe tbody tr th:only-of-type {\n",
       "        vertical-align: middle;\n",
       "    }\n",
       "\n",
       "    .dataframe tbody tr th {\n",
       "        vertical-align: top;\n",
       "    }\n",
       "\n",
       "    .dataframe thead th {\n",
       "        text-align: right;\n",
       "    }\n",
       "</style>\n",
       "<table border=\"1\" class=\"dataframe\">\n",
       "  <thead>\n",
       "    <tr style=\"text-align: right;\">\n",
       "      <th></th>\n",
       "      <th>Population</th>\n",
       "    </tr>\n",
       "  </thead>\n",
       "  <tbody>\n",
       "    <tr>\n",
       "      <th>count</th>\n",
       "      <td>32530.000000</td>\n",
       "    </tr>\n",
       "    <tr>\n",
       "      <th>mean</th>\n",
       "      <td>9941.839948</td>\n",
       "    </tr>\n",
       "    <tr>\n",
       "      <th>std</th>\n",
       "      <td>14744.692317</td>\n",
       "    </tr>\n",
       "    <tr>\n",
       "      <th>min</th>\n",
       "      <td>1.000000</td>\n",
       "    </tr>\n",
       "    <tr>\n",
       "      <th>25%</th>\n",
       "      <td>732.000000</td>\n",
       "    </tr>\n",
       "    <tr>\n",
       "      <th>50%</th>\n",
       "      <td>2849.000000</td>\n",
       "    </tr>\n",
       "    <tr>\n",
       "      <th>75%</th>\n",
       "      <td>13479.000000</td>\n",
       "    </tr>\n",
       "    <tr>\n",
       "      <th>max</th>\n",
       "      <td>128294.000000</td>\n",
       "    </tr>\n",
       "  </tbody>\n",
       "</table>\n",
       "</div>"
      ],
      "text/plain": [
       "          Population\n",
       "count   32530.000000\n",
       "mean     9941.839948\n",
       "std     14744.692317\n",
       "min         1.000000\n",
       "25%       732.000000\n",
       "50%      2849.000000\n",
       "75%     13479.000000\n",
       "max    128294.000000"
      ]
     },
     "execution_count": 17,
     "metadata": {},
     "output_type": "execute_result"
    }
   ],
   "source": [
    "df.describe()"
   ]
  },
  {
   "cell_type": "markdown",
   "id": "3cbd12f1",
   "metadata": {},
   "source": [
    "### Step 5. Ouliers"
   ]
  },
  {
   "cell_type": "code",
   "execution_count": 18,
   "id": "58fcd122",
   "metadata": {},
   "outputs": [
    {
     "data": {
      "text/plain": [
       "<AxesSubplot:xlabel='Population'>"
      ]
     },
     "execution_count": 18,
     "metadata": {},
     "output_type": "execute_result"
    },
    {
     "data": {
      "image/png": "[encoded data removed]",
      "text/plain": [
       "<Figure size 432x288 with 1 Axes>"
      ]
     },
     "metadata": {
      "needs_background": "light"
     },
     "output_type": "display_data"
    }
   ],
   "source": [
    "sns.boxplot(x=df['Population'])"
   ]
  },
  {
   "cell_type": "code",
   "execution_count": 19,
   "id": "b84b235a",
   "metadata": {},
   "outputs": [
    {
     "data": {
      "text/html": [
       "<div>\n",
       "<style scoped>\n",
       "    .dataframe tbody tr th:only-of-type {\n",
       "        vertical-align: middle;\n",
       "    }\n",
       "\n",
       "    .dataframe tbody tr th {\n",
       "        vertical-align: top;\n",
       "    }\n",
       "\n",
       "    .dataframe thead th {\n",
       "        text-align: right;\n",
       "    }\n",
       "</style>\n",
       "<table border=\"1\" class=\"dataframe\">\n",
       "  <thead>\n",
       "    <tr style=\"text-align: right;\">\n",
       "      <th></th>\n",
       "      <th>Population</th>\n",
       "    </tr>\n",
       "  </thead>\n",
       "  <tbody>\n",
       "    <tr>\n",
       "      <th>count</th>\n",
       "      <td>32530.000000</td>\n",
       "    </tr>\n",
       "    <tr>\n",
       "      <th>mean</th>\n",
       "      <td>9941.839948</td>\n",
       "    </tr>\n",
       "    <tr>\n",
       "      <th>std</th>\n",
       "      <td>14744.692317</td>\n",
       "    </tr>\n",
       "    <tr>\n",
       "      <th>min</th>\n",
       "      <td>1.000000</td>\n",
       "    </tr>\n",
       "    <tr>\n",
       "      <th>25%</th>\n",
       "      <td>732.000000</td>\n",
       "    </tr>\n",
       "    <tr>\n",
       "      <th>50%</th>\n",
       "      <td>2849.000000</td>\n",
       "    </tr>\n",
       "    <tr>\n",
       "      <th>75%</th>\n",
       "      <td>13479.000000</td>\n",
       "    </tr>\n",
       "    <tr>\n",
       "      <th>max</th>\n",
       "      <td>128294.000000</td>\n",
       "    </tr>\n",
       "  </tbody>\n",
       "</table>\n",
       "</div>"
      ],
      "text/plain": [
       "          Population\n",
       "count   32530.000000\n",
       "mean     9941.839948\n",
       "std     14744.692317\n",
       "min         1.000000\n",
       "25%       732.000000\n",
       "50%      2849.000000\n",
       "75%     13479.000000\n",
       "max    128294.000000"
      ]
     },
     "execution_count": 19,
     "metadata": {},
     "output_type": "execute_result"
    }
   ],
   "source": [
    "df.describe()"
   ]
  },
  {
   "cell_type": "markdown",
   "id": "3705d25c",
   "metadata": {},
   "source": [
    "This is a population data. Some zip codes might have high population density. There is no outlier in this data"
   ]
  }
 ],
 "metadata": {
  "kernelspec": {
   "display_name": "Python 3 (ipykernel)",
   "language": "python",
   "name": "python3"
  },
  "language_info": {
   "codemirror_mode": {
    "name": "ipython",
    "version": 3
   },
   "file_extension": ".py",
   "mimetype": "text/x-python",
   "name": "python",
   "nbconvert_exporter": "python",
   "pygments_lexer": "ipython3",
   "version": "3.9.7"
  }
 },
 "nbformat": 4,
 "nbformat_minor": 5
}
