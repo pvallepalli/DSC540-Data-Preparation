{
 "cells": [
  {
   "cell_type": "code",
   "execution_count": 1,
   "id": "a495b501",
   "metadata": {},
   "outputs": [],
   "source": [
    "import random"
   ]
  },
  {
   "cell_type": "markdown",
   "id": "4c9ed104",
   "metadata": {},
   "source": [
    "#### Create a list, iterate over the list"
   ]
  },
  {
   "cell_type": "code",
   "execution_count": 2,
   "id": "782f0e87",
   "metadata": {},
   "outputs": [
    {
     "name": "stdout",
     "output_type": "stream",
     "text": [
      "70\n",
      "28\n",
      "35\n",
      "58\n",
      "30\n",
      "49\n"
     ]
    }
   ],
   "source": [
    "num_list = [70, 28, 35, 58, 30, 49]\n",
    "\n",
    "# Iterating over the list\n",
    "for num in num_list:\n",
    "    print(num)"
   ]
  },
  {
   "cell_type": "markdown",
   "id": "17ac9f99",
   "metadata": {},
   "source": [
    "#### List sorting"
   ]
  },
  {
   "cell_type": "code",
   "execution_count": 3,
   "id": "e6585b5f",
   "metadata": {},
   "outputs": [
    {
     "data": {
      "text/plain": [
       "[28, 30, 35, 49, 58, 70]"
      ]
     },
     "execution_count": 3,
     "metadata": {},
     "output_type": "execute_result"
    }
   ],
   "source": [
    "# Sorting list\n",
    "num_list.sort()\n",
    "num_list"
   ]
  },
  {
   "cell_type": "markdown",
   "id": "4268f993",
   "metadata": {},
   "source": [
    "#### Adding random numbers to list"
   ]
  },
  {
   "cell_type": "code",
   "execution_count": 4,
   "id": "880d0264",
   "metadata": {},
   "outputs": [
    {
     "data": {
      "text/plain": [
       "[28, 30, 35, 49, 58, 70, 56, 96, 74]"
      ]
     },
     "execution_count": 4,
     "metadata": {},
     "output_type": "execute_result"
    }
   ],
   "source": [
    "\n",
    "count = 3\n",
    "for iter in range(count):\n",
    "    num_list.append(random.randint(1, 100))\n",
    "num_list"
   ]
  },
  {
   "cell_type": "markdown",
   "id": "c36716a8",
   "metadata": {},
   "source": [
    "#### Line chart with mathplotlib"
   ]
  },
  {
   "cell_type": "code",
   "execution_count": 5,
   "id": "0335dd48",
   "metadata": {},
   "outputs": [
    {
     "data": {
      "image/png": "[encoded data removed]",
      "text/plain": [
       "<Figure size 432x288 with 1 Axes>"
      ]
     },
     "metadata": {
      "needs_background": "light"
     },
     "output_type": "display_data"
    }
   ],
   "source": [
    "import pandas as pd\n",
    "import matplotlib.pyplot as plt\n",
    "\n",
    "df = pd.read_excel('http://content.bellevue.edu/cst/dsc/540/id/data-files/12-week/weeks-1-&-2/world-population.xlsm')\n",
    "\n",
    "plt.plot(df[\"Year\"], df[\"Population\"])\n",
    "plt.title(\"World population data\")\n",
    "plt.xlabel('Year')\n",
    "plt.ylabel('Population')\n",
    "\n",
    "plt.show()\n"
   ]
  },
  {
   "cell_type": "markdown",
   "id": "e9713de1",
   "metadata": {},
   "source": [
    "### Activity 1"
   ]
  },
  {
   "cell_type": "code",
   "execution_count": 6,
   "id": "1b86c6d8",
   "metadata": {},
   "outputs": [
    {
     "name": "stdout",
     "output_type": "stream",
     "text": [
      "Difference in length of list in 3 iterations: [67, 64, 63]\n",
      "Mean of lengths: 64.66666666666667\n"
     ]
    }
   ],
   "source": [
    "from numpy import random, mean\n",
    "\n",
    "diff_list = []\n",
    "\n",
    "for iter in range(3):\n",
    "\n",
    "    # Random list of 100 numbers\n",
    "    rand_list = list(random.randint(500, size=(100)))\n",
    "    \n",
    "\n",
    "    # List of numbers divisible by 3\n",
    "    div_list = [ num for num in rand_list if (num % 3) == 0]\n",
    "\n",
    "    # Length of list divisble by 3\n",
    "    len_div_list = len(div_list)\n",
    "\n",
    "    len_diff = 100 - len_div_list\n",
    "\n",
    "    diff_list.append(len_diff)\n",
    "\n",
    "print(f\"Difference in length of list in 3 iterations: {diff_list}\")\n",
    "print(f\"Mean of lengths: {mean(diff_list)}\")\n"
   ]
  },
  {
   "cell_type": "markdown",
   "id": "973871cd",
   "metadata": {},
   "source": [
    "### Activity 2"
   ]
  },
  {
   "cell_type": "markdown",
   "id": "23a76b6f",
   "metadata": {},
   "source": [
    "Get multiline text and save it in a Python variable"
   ]
  },
  {
   "cell_type": "code",
   "execution_count": 7,
   "id": "6d4e0785",
   "metadata": {},
   "outputs": [
    {
     "data": {
      "text/plain": [
       "'In this chapter, we learned what the term data wrangling means.\\nWe also got examples from various real life data science situations where data wrangling is very useful and is used in industry.\\nWe moved on to learn about the different built in data structures that Python has to offer.\\nWe got our hands dirty by exploring lists, sets, dictionaries, tuples, and strings.\\nThey are the fundamental building blocks in Python data structures, and we need them all the time while working and manipulating data in Python.\\nWe did several small hands on exercises to learn more about them.\\nWe finished this chapter with a carefully designed activity, which let us combine a lot of different tricks from all the different data structures into a real life situation and let us observe the interplay between all of them\\n'"
      ]
     },
     "execution_count": 7,
     "metadata": {},
     "output_type": "execute_result"
    }
   ],
   "source": [
    "rand_str = \"\"\"In this chapter, we learned what the term data wrangling means.\n",
    "We also got examples from various real life data science situations where data wrangling is very useful and is used in industry.\n",
    "We moved on to learn about the different built in data structures that Python has to offer.\n",
    "We got our hands dirty by exploring lists, sets, dictionaries, tuples, and strings.\n",
    "They are the fundamental building blocks in Python data structures, and we need them all the time while working and manipulating data in Python.\n",
    "We did several small hands on exercises to learn more about them.\n",
    "We finished this chapter with a carefully designed activity, which let us combine a lot of different tricks from all the different data structures into a real life situation and let us observe the interplay between all of them\n",
    "\"\"\"\n",
    "\n",
    "rand_str"
   ]
  },
  {
   "cell_type": "markdown",
   "id": "06ee85e9",
   "metadata": {},
   "source": [
    "Get rid of all new lines in it using string methods"
   ]
  },
  {
   "cell_type": "code",
   "execution_count": 8,
   "id": "848491c1",
   "metadata": {},
   "outputs": [
    {
     "data": {
      "text/plain": [
       "'In this chapter, we learned what the term data wrangling means. We also got examples from various real life data science situations where data wrangling is very useful and is used in industry. We moved on to learn about the different built in data structures that Python has to offer. We got our hands dirty by exploring lists, sets, dictionaries, tuples, and strings. They are the fundamental building blocks in Python data structures, and we need them all the time while working and manipulating data in Python. We did several small hands on exercises to learn more about them. We finished this chapter with a carefully designed activity, which let us combine a lot of different tricks from all the different data structures into a real life situation and let us observe the interplay between all of them '"
      ]
     },
     "execution_count": 8,
     "metadata": {},
     "output_type": "execute_result"
    }
   ],
   "source": [
    "rand_str = rand_str.replace('\\n', ' ')\n",
    "rand_str"
   ]
  },
  {
   "cell_type": "markdown",
   "id": "c93f5063",
   "metadata": {},
   "source": [
    "Removing punctuations from string"
   ]
  },
  {
   "cell_type": "code",
   "execution_count": 9,
   "id": "134c0a06",
   "metadata": {},
   "outputs": [
    {
     "data": {
      "text/plain": [
       "'In this chapter we learned what the term data wrangling means We also got examples from various real life data science situations where data wrangling is very useful and is used in industry We moved on to learn about the different built in data structures that Python has to offer We got our hands dirty by exploring lists sets dictionaries tuples and strings They are the fundamental building blocks in Python data structures and we need them all the time while working and manipulating data in Python We did several small hands on exercises to learn more about them We finished this chapter with a carefully designed activity which let us combine a lot of different tricks from all the different data structures into a real life situation and let us observe the interplay between all of them '"
      ]
     },
     "execution_count": 9,
     "metadata": {},
     "output_type": "execute_result"
    }
   ],
   "source": [
    "import string\n",
    "rand_str = rand_str.translate(str.maketrans('', '', string.punctuation))\n",
    "rand_str"
   ]
  },
  {
   "cell_type": "code",
   "execution_count": 10,
   "id": "e6991006",
   "metadata": {},
   "outputs": [
    {
     "data": {
      "text/plain": [
       "['In',\n",
       " 'this',\n",
       " 'chapter',\n",
       " 'we',\n",
       " 'learned',\n",
       " 'what',\n",
       " 'the',\n",
       " 'term',\n",
       " 'data',\n",
       " 'wrangling',\n",
       " 'means',\n",
       " 'We',\n",
       " 'also',\n",
       " 'got',\n",
       " 'examples',\n",
       " 'from',\n",
       " 'various',\n",
       " 'real',\n",
       " 'life',\n",
       " 'data',\n",
       " 'science',\n",
       " 'situations',\n",
       " 'where',\n",
       " 'data',\n",
       " 'wrangling',\n",
       " 'is',\n",
       " 'very',\n",
       " 'useful',\n",
       " 'and',\n",
       " 'is',\n",
       " 'used',\n",
       " 'in',\n",
       " 'industry',\n",
       " 'We',\n",
       " 'moved',\n",
       " 'on',\n",
       " 'to',\n",
       " 'learn',\n",
       " 'about',\n",
       " 'the',\n",
       " 'different',\n",
       " 'built',\n",
       " 'in',\n",
       " 'data',\n",
       " 'structures',\n",
       " 'that',\n",
       " 'Python',\n",
       " 'has',\n",
       " 'to',\n",
       " 'offer',\n",
       " 'We',\n",
       " 'got',\n",
       " 'our',\n",
       " 'hands',\n",
       " 'dirty',\n",
       " 'by',\n",
       " 'exploring',\n",
       " 'lists',\n",
       " 'sets',\n",
       " 'dictionaries',\n",
       " 'tuples',\n",
       " 'and',\n",
       " 'strings',\n",
       " 'They',\n",
       " 'are',\n",
       " 'the',\n",
       " 'fundamental',\n",
       " 'building',\n",
       " 'blocks',\n",
       " 'in',\n",
       " 'Python',\n",
       " 'data',\n",
       " 'structures',\n",
       " 'and',\n",
       " 'we',\n",
       " 'need',\n",
       " 'them',\n",
       " 'all',\n",
       " 'the',\n",
       " 'time',\n",
       " 'while',\n",
       " 'working',\n",
       " 'and',\n",
       " 'manipulating',\n",
       " 'data',\n",
       " 'in',\n",
       " 'Python',\n",
       " 'We',\n",
       " 'did',\n",
       " 'several',\n",
       " 'small',\n",
       " 'hands',\n",
       " 'on',\n",
       " 'exercises',\n",
       " 'to',\n",
       " 'learn',\n",
       " 'more',\n",
       " 'about',\n",
       " 'them',\n",
       " 'We',\n",
       " 'finished',\n",
       " 'this',\n",
       " 'chapter',\n",
       " 'with',\n",
       " 'a',\n",
       " 'carefully',\n",
       " 'designed',\n",
       " 'activity',\n",
       " 'which',\n",
       " 'let',\n",
       " 'us',\n",
       " 'combine',\n",
       " 'a',\n",
       " 'lot',\n",
       " 'of',\n",
       " 'different',\n",
       " 'tricks',\n",
       " 'from',\n",
       " 'all',\n",
       " 'the',\n",
       " 'different',\n",
       " 'data',\n",
       " 'structures',\n",
       " 'into',\n",
       " 'a',\n",
       " 'real',\n",
       " 'life',\n",
       " 'situation',\n",
       " 'and',\n",
       " 'let',\n",
       " 'us',\n",
       " 'observe',\n",
       " 'the',\n",
       " 'interplay',\n",
       " 'between',\n",
       " 'all',\n",
       " 'of',\n",
       " 'them']"
      ]
     },
     "execution_count": 10,
     "metadata": {},
     "output_type": "execute_result"
    }
   ],
   "source": [
    "words_list = rand_str.split()\n",
    "words_list"
   ]
  },
  {
   "cell_type": "markdown",
   "id": "994dd23c",
   "metadata": {},
   "source": [
    "Unique words from the list"
   ]
  },
  {
   "cell_type": "code",
   "execution_count": 11,
   "id": "1786f8ae",
   "metadata": {},
   "outputs": [
    {
     "data": {
      "text/plain": [
       "['dictionaries',\n",
       " 'Python',\n",
       " 'very',\n",
       " 'built',\n",
       " 'useful',\n",
       " 'our',\n",
       " 'moved',\n",
       " 'fundamental',\n",
       " 'carefully',\n",
       " 'all',\n",
       " 'into',\n",
       " 'more',\n",
       " 'on',\n",
       " 'the',\n",
       " 'several',\n",
       " 'small',\n",
       " 'activity',\n",
       " 'need',\n",
       " 'let',\n",
       " 'a',\n",
       " 'various',\n",
       " 'exercises',\n",
       " 'blocks',\n",
       " 'working',\n",
       " 'did',\n",
       " 'structures',\n",
       " 'lists',\n",
       " 'data',\n",
       " 'about',\n",
       " 'manipulating',\n",
       " 'with',\n",
       " 'observe',\n",
       " 'dirty',\n",
       " 'strings',\n",
       " 'science',\n",
       " 'combine',\n",
       " 'used',\n",
       " 'in',\n",
       " 'that',\n",
       " 'building',\n",
       " 'while',\n",
       " 'lot',\n",
       " 'We',\n",
       " 'to',\n",
       " 'chapter',\n",
       " 'are',\n",
       " 'us',\n",
       " 'we',\n",
       " 'of',\n",
       " 'by',\n",
       " 'where',\n",
       " 'time',\n",
       " 'hands',\n",
       " 'finished',\n",
       " 'between',\n",
       " 'industry',\n",
       " 'real',\n",
       " 'They',\n",
       " 'learned',\n",
       " 'this',\n",
       " 'has',\n",
       " 'got',\n",
       " 'sets',\n",
       " 'designed',\n",
       " 'tricks',\n",
       " 'examples',\n",
       " 'exploring',\n",
       " 'term',\n",
       " 'situation',\n",
       " 'means',\n",
       " 'tuples',\n",
       " 'In',\n",
       " 'and',\n",
       " 'learn',\n",
       " 'from',\n",
       " 'situations',\n",
       " 'different',\n",
       " 'wrangling',\n",
       " 'interplay',\n",
       " 'also',\n",
       " 'is',\n",
       " 'them',\n",
       " 'what',\n",
       " 'offer',\n",
       " 'life',\n",
       " 'which']"
      ]
     },
     "execution_count": 11,
     "metadata": {},
     "output_type": "execute_result"
    }
   ],
   "source": [
    "uniq_words = list(set(words_list))\n",
    "uniq_words"
   ]
  },
  {
   "cell_type": "code",
   "execution_count": 12,
   "id": "468ed1db",
   "metadata": {},
   "outputs": [
    {
     "data": {
      "text/plain": [
       "{'dictionaries': 1,\n",
       " 'Python': 3,\n",
       " 'very': 1,\n",
       " 'built': 1,\n",
       " 'useful': 1,\n",
       " 'our': 1,\n",
       " 'moved': 1,\n",
       " 'fundamental': 1,\n",
       " 'carefully': 1,\n",
       " 'all': 3,\n",
       " 'into': 1,\n",
       " 'more': 1,\n",
       " 'on': 2,\n",
       " 'the': 6,\n",
       " 'several': 1,\n",
       " 'small': 1,\n",
       " 'activity': 1,\n",
       " 'need': 1,\n",
       " 'let': 2,\n",
       " 'a': 3,\n",
       " 'various': 1,\n",
       " 'exercises': 1,\n",
       " 'blocks': 1,\n",
       " 'working': 1,\n",
       " 'did': 1,\n",
       " 'structures': 3,\n",
       " 'lists': 1,\n",
       " 'data': 7,\n",
       " 'about': 2,\n",
       " 'manipulating': 1,\n",
       " 'with': 1,\n",
       " 'observe': 1,\n",
       " 'dirty': 1,\n",
       " 'strings': 1,\n",
       " 'science': 1,\n",
       " 'combine': 1,\n",
       " 'used': 1,\n",
       " 'in': 4,\n",
       " 'that': 1,\n",
       " 'building': 1,\n",
       " 'while': 1,\n",
       " 'lot': 1,\n",
       " 'We': 5,\n",
       " 'to': 3,\n",
       " 'chapter': 2,\n",
       " 'are': 1,\n",
       " 'us': 2,\n",
       " 'we': 2,\n",
       " 'of': 2,\n",
       " 'by': 1,\n",
       " 'where': 1,\n",
       " 'time': 1,\n",
       " 'hands': 2,\n",
       " 'finished': 1,\n",
       " 'between': 1,\n",
       " 'industry': 1,\n",
       " 'real': 2,\n",
       " 'They': 1,\n",
       " 'learned': 1,\n",
       " 'this': 2,\n",
       " 'has': 1,\n",
       " 'got': 2,\n",
       " 'sets': 1,\n",
       " 'designed': 1,\n",
       " 'tricks': 1,\n",
       " 'examples': 1,\n",
       " 'exploring': 1,\n",
       " 'term': 1,\n",
       " 'situation': 1,\n",
       " 'means': 1,\n",
       " 'tuples': 1,\n",
       " 'In': 1,\n",
       " 'and': 5,\n",
       " 'learn': 2,\n",
       " 'from': 2,\n",
       " 'situations': 1,\n",
       " 'different': 3,\n",
       " 'wrangling': 2,\n",
       " 'interplay': 1,\n",
       " 'also': 1,\n",
       " 'is': 2,\n",
       " 'them': 3,\n",
       " 'what': 1,\n",
       " 'offer': 1,\n",
       " 'life': 2,\n",
       " 'which': 1}"
      ]
     },
     "execution_count": 12,
     "metadata": {},
     "output_type": "execute_result"
    }
   ],
   "source": [
    "words_count = {}\n",
    "\n",
    "for word in uniq_words:\n",
    "    words_count[word] = words_list.count(word)\n",
    "\n",
    "words_count"
   ]
  },
  {
   "cell_type": "markdown",
   "id": "fb334b49",
   "metadata": {},
   "source": [
    "Words count by ignoring case sensitivity"
   ]
  },
  {
   "cell_type": "code",
   "execution_count": 13,
   "id": "3d0f0724",
   "metadata": {},
   "outputs": [
    {
     "data": {
      "text/plain": [
       "{'dictionaries': 1,\n",
       " 'very': 1,\n",
       " 'built': 1,\n",
       " 'useful': 1,\n",
       " 'our': 1,\n",
       " 'moved': 1,\n",
       " 'fundamental': 1,\n",
       " 'carefully': 1,\n",
       " 'all': 3,\n",
       " 'into': 1,\n",
       " 'more': 1,\n",
       " 'on': 2,\n",
       " 'the': 6,\n",
       " 'several': 1,\n",
       " 'small': 1,\n",
       " 'activity': 1,\n",
       " 'need': 1,\n",
       " 'let': 2,\n",
       " 'a': 3,\n",
       " 'various': 1,\n",
       " 'exercises': 1,\n",
       " 'they': 1,\n",
       " 'blocks': 1,\n",
       " 'working': 1,\n",
       " 'did': 1,\n",
       " 'structures': 3,\n",
       " 'lists': 1,\n",
       " 'data': 7,\n",
       " 'about': 2,\n",
       " 'manipulating': 1,\n",
       " 'with': 1,\n",
       " 'observe': 1,\n",
       " 'dirty': 1,\n",
       " 'strings': 1,\n",
       " 'science': 1,\n",
       " 'combine': 1,\n",
       " 'used': 1,\n",
       " 'in': 5,\n",
       " 'that': 1,\n",
       " 'building': 1,\n",
       " 'while': 1,\n",
       " 'lot': 1,\n",
       " 'to': 3,\n",
       " 'chapter': 2,\n",
       " 'are': 1,\n",
       " 'us': 2,\n",
       " 'we': 7,\n",
       " 'of': 2,\n",
       " 'by': 1,\n",
       " 'where': 1,\n",
       " 'time': 1,\n",
       " 'hands': 2,\n",
       " 'finished': 1,\n",
       " 'between': 1,\n",
       " 'industry': 1,\n",
       " 'real': 2,\n",
       " 'learned': 1,\n",
       " 'this': 2,\n",
       " 'has': 1,\n",
       " 'got': 2,\n",
       " 'sets': 1,\n",
       " 'designed': 1,\n",
       " 'tricks': 1,\n",
       " 'examples': 1,\n",
       " 'exploring': 1,\n",
       " 'term': 1,\n",
       " 'situation': 1,\n",
       " 'means': 1,\n",
       " 'tuples': 1,\n",
       " 'and': 5,\n",
       " 'learn': 2,\n",
       " 'from': 2,\n",
       " 'situations': 1,\n",
       " 'different': 3,\n",
       " 'wrangling': 2,\n",
       " 'interplay': 1,\n",
       " 'also': 1,\n",
       " 'is': 2,\n",
       " 'them': 3,\n",
       " 'what': 1,\n",
       " 'offer': 1,\n",
       " 'python': 3,\n",
       " 'life': 2,\n",
       " 'which': 1}"
      ]
     },
     "execution_count": 13,
     "metadata": {},
     "output_type": "execute_result"
    }
   ],
   "source": [
    "rand_str_lower = rand_str.lower()\n",
    "words_list_lower = rand_str_lower.split()\n",
    "uniq_words_lower = list(set(words_list_lower))\n",
    "\n",
    "words_count_lower = {}\n",
    "\n",
    "for word in uniq_words_lower:\n",
    "    words_count_lower[word] = words_list_lower.count(word)\n",
    "\n",
    "words_count_lower"
   ]
  },
  {
   "cell_type": "markdown",
   "id": "2cd98670",
   "metadata": {},
   "source": [
    "### Activity 3"
   ]
  },
  {
   "cell_type": "code",
   "execution_count": 14,
   "id": "5077c0fa",
   "metadata": {},
   "outputs": [],
   "source": [
    "from itertools import permutations, dropwhile"
   ]
  },
  {
   "cell_type": "code",
   "execution_count": 15,
   "id": "ac61de77",
   "metadata": {},
   "outputs": [
    {
     "data": {
      "text/plain": [
       "<itertools.permutations at 0x7fa1e9e2db80>"
      ]
     },
     "execution_count": 15,
     "metadata": {},
     "output_type": "execute_result"
    }
   ],
   "source": [
    "\n",
    "permutations(range(3))"
   ]
  },
  {
   "cell_type": "code",
   "execution_count": 16,
   "id": "c2a3bb4f",
   "metadata": {},
   "outputs": [
    {
     "name": "stdout",
     "output_type": "stream",
     "text": [
      "(0, 1, 2)\n",
      "(0, 2, 1)\n",
      "(1, 0, 2)\n",
      "(1, 2, 0)\n",
      "(2, 0, 1)\n",
      "(2, 1, 0)\n"
     ]
    }
   ],
   "source": [
    "for number_tuple in permutations(range(3)):\n",
    "    print(number_tuple)\n",
    "    assert isinstance(number_tuple, tuple)"
   ]
  },
  {
   "cell_type": "code",
   "execution_count": 17,
   "id": "b025b63a",
   "metadata": {},
   "outputs": [
    {
     "name": "stdout",
     "output_type": "stream",
     "text": [
      "[1, 2]\n",
      "[2, 1]\n",
      "[1, 0, 2]\n",
      "[1, 2, 0]\n",
      "[2, 0, 1]\n",
      "[2, 1, 0]\n"
     ]
    }
   ],
   "source": [
    "for number_tuple in permutations(range(3)):\n",
    "    print(list(dropwhile(lambda x: x <= 0, number_tuple)))"
   ]
  },
  {
   "cell_type": "code",
   "execution_count": 18,
   "id": "2fa66e19",
   "metadata": {},
   "outputs": [],
   "source": [
    "import math\n",
    "def convert_to_number(number_stack):\n",
    "    final_number = 0\n",
    "    for iter in range(0, len(number_stack)):\n",
    "        final_number += (number_stack.pop() * (math.pow(10, iter)))\n",
    "    return final_number"
   ]
  },
  {
   "cell_type": "code",
   "execution_count": 19,
   "id": "37885d43",
   "metadata": {},
   "outputs": [
    {
     "name": "stdout",
     "output_type": "stream",
     "text": [
      "12.0\n",
      "21.0\n",
      "102.0\n",
      "120.0\n",
      "201.0\n",
      "210.0\n"
     ]
    }
   ],
   "source": [
    "for number_tuple in permutations(range(3)):\n",
    "    number_stack = list(dropwhile(lambda x: x <= 0, number_tuple))\n",
    "    print(convert_to_number(number_stack))"
   ]
  },
  {
   "cell_type": "markdown",
   "id": "f178704d",
   "metadata": {},
   "source": [
    "### Activity 4"
   ]
  },
  {
   "cell_type": "code",
   "execution_count": 20,
   "id": "844916dc",
   "metadata": {},
   "outputs": [],
   "source": [
    "from itertools import zip_longest"
   ]
  },
  {
   "cell_type": "code",
   "execution_count": 21,
   "id": "1b857a67",
   "metadata": {},
   "outputs": [],
   "source": [
    "def return_dict_from_csv_line(header, line):\n",
    "    # Zip header and data\n",
    "    zipped_line = zip_longest(header, line, fillvalue=None)\n",
    "    ret_dict = {kv[0]: kv[1] for kv in zipped_line}\n",
    "    return ret_dict"
   ]
  },
  {
   "cell_type": "code",
   "execution_count": 22,
   "id": "e0da8f0c",
   "metadata": {},
   "outputs": [
    {
     "name": "stdout",
     "output_type": "stream",
     "text": [
      "{'Region': 'Central America and the Caribbean', 'Country': 'Antigua and Barbuda ', 'Item Type': 'Baby Food', 'Sales Channel': 'Online', 'Order Priority': 'M', 'Order Date': '12/20/2013', 'Order ID': '957081544', 'Ship Date': '1/11/2014', 'Units Sold': '552', 'Unit Price': '255.28', 'Unit Cost': '159.42', 'Total Revenue': '140914.56', 'Total Cost': '87999.84', 'Total Profit': '52914.72'}\n",
      "{'Region': 'Central America and the Caribbean', 'Country': 'Panama', 'Item Type': 'Snacks', 'Sales Channel': 'Offline', 'Order Priority': 'C', 'Order Date': '7/5/2010', 'Order ID': '301644504', 'Ship Date': '7/26/2010', 'Units Sold': '2167', 'Unit Price': '152.58', 'Unit Cost': '97.44', 'Total Revenue': '330640.86', 'Total Cost': '211152.48', 'Total Profit': '119488.38'}\n",
      "{'Region': 'Europe', 'Country': 'Czech Republic', 'Item Type': 'Beverages', 'Sales Channel': 'Offline', 'Order Priority': 'C', 'Order Date': '9/12/2011', 'Order ID': '478051030', 'Ship Date': '9/29/2011', 'Units Sold': '4778', 'Unit Price': '47.45', 'Unit Cost': '31.79', 'Total Revenue': '226716.10', 'Total Cost': '151892.62', 'Total Profit': '74823.48'}\n",
      "{'Region': 'Asia', 'Country': 'North Korea', 'Item Type': 'Cereal', 'Sales Channel': 'Offline', 'Order Priority': 'L', 'Order Date': '5/13/2010', 'Order ID': '892599952', 'Ship Date': '6/15/2010', 'Units Sold': '9016', 'Unit Price': '205.70', 'Unit Cost': '117.11', 'Total Revenue': '1854591.20', 'Total Cost': '1055863.76', 'Total Profit': '798727.44'}\n",
      "{'Region': 'Asia', 'Country': 'Sri Lanka', 'Item Type': 'Snacks', 'Sales Channel': 'Offline', 'Order Priority': 'C', 'Order Date': '7/20/2015', 'Order ID': '571902596', 'Ship Date': '7/27/2015', 'Units Sold': '7542', 'Unit Price': '152.58', 'Unit Cost': '97.44', 'Total Revenue': '1150758.36', 'Total Cost': '734892.48', 'Total Profit': '415865.88'}\n",
      "{'Region': 'Middle East and North Africa', 'Country': 'Morocco', 'Item Type': 'Personal Care', 'Sales Channel': 'Offline', 'Order Priority': 'L', 'Order Date': '11/8/2010', 'Order ID': '412882792', 'Ship Date': '11/22/2010', 'Units Sold': '48', 'Unit Price': '81.73', 'Unit Cost': '56.67', 'Total Revenue': '3923.04', 'Total Cost': '2720.16', 'Total Profit': '1202.88'}\n",
      "{'Region': 'Australia and Oceania', 'Country': 'Federated States of Micronesia', 'Item Type': 'Clothes', 'Sales Channel': 'Offline', 'Order Priority': 'H', 'Order Date': '3/28/2011', 'Order ID': '932776868', 'Ship Date': '5/10/2011', 'Units Sold': '8258', 'Unit Price': '109.28', 'Unit Cost': '35.84', 'Total Revenue': '902434.24', 'Total Cost': '295966.72', 'Total Profit': '606467.52'}\n",
      "{'Region': 'Europe', 'Country': 'Bosnia and Herzegovina', 'Item Type': 'Clothes', 'Sales Channel': 'Online', 'Order Priority': 'M', 'Order Date': '10/14/2013', 'Order ID': '919133651', 'Ship Date': '11/4/2013', 'Units Sold': '927', 'Unit Price': '109.28', 'Unit Cost': '35.84', 'Total Revenue': '101302.56', 'Total Cost': '33223.68', 'Total Profit': '68078.88'}\n",
      "{'Region': 'Middle East and North Africa', 'Country': 'Afghanistan', 'Item Type': 'Clothes', 'Sales Channel': 'Offline', 'Order Priority': 'M', 'Order Date': '8/27/2016', 'Order ID': '579814469', 'Ship Date': '10/5/2016', 'Units Sold': '8841', 'Unit Price': '109.28', 'Unit Cost': '35.84', 'Total Revenue': '966144.48', 'Total Cost': '316861.44', 'Total Profit': '649283.04'}\n",
      "{'Region': 'Sub-Saharan Africa', 'Country': 'Ethiopia', 'Item Type': 'Baby Food', 'Sales Channel': 'Online', 'Order Priority': 'M', 'Order Date': '4/13/2015', 'Order ID': '192993152', 'Ship Date': '5/7/2015', 'Units Sold': '9817', 'Unit Price': '255.28', 'Unit Cost': '159.42', 'Total Revenue': '2506083.76', 'Total Cost': '1565026.14', 'Total Profit': '941057.62'}\n",
      "{'Region': 'Middle East and North Africa', 'Country': 'Turkey', 'Item Type': 'Office Supplies', 'Sales Channel': 'Offline', 'Order Priority': 'C', 'Order Date': '9/25/2013', 'Order ID': '557156026', 'Ship Date': '10/15/2013', 'Units Sold': '3704', 'Unit Price': '651.21', 'Unit Cost': '524.96', 'Total Revenue': '2412081.84', 'Total Cost': '1944451.84', 'Total Profit': '467630.00'}\n",
      "{'Region': 'Middle East and North Africa', 'Country': 'Oman', 'Item Type': 'Cosmetics', 'Sales Channel': 'Online', 'Order Priority': 'M', 'Order Date': '5/12/2013', 'Order ID': '741101920', 'Ship Date': '5/17/2013', 'Units Sold': '7382', 'Unit Price': '437.20', 'Unit Cost': '263.33', 'Total Revenue': '3227410.40', 'Total Cost': '1943902.06', 'Total Profit': '1283508.34'}\n"
     ]
    }
   ],
   "source": [
    "with open(\"sales_record.csv\", \"r\") as fd:\n",
    "    first_line = fd.readline()\n",
    "    header = first_line.replace(\"\\n\", \"\").split(\",\")\n",
    "    for iter, line in enumerate(fd):\n",
    "        # Loop over the first 10 lines to not to make the output too big\n",
    "        line = line.replace(\"\\n\", \"\").split(\",\")\n",
    "        d = return_dict_from_csv_line(header, line)\n",
    "        print(d)\n",
    "        if iter > 10:\n",
    "            break"
   ]
  },
  {
   "cell_type": "code",
   "execution_count": null,
   "id": "0ec59f9d",
   "metadata": {},
   "outputs": [],
   "source": []
  }
 ],
 "metadata": {
  "kernelspec": {
   "display_name": "Python 3 (ipykernel)",
   "language": "python",
   "name": "python3"
  },
  "language_info": {
   "codemirror_mode": {
    "name": "ipython",
    "version": 3
   },
   "file_extension": ".py",
   "mimetype": "text/x-python",
   "name": "python",
   "nbconvert_exporter": "python",
   "pygments_lexer": "ipython3",
   "version": "3.9.7"
  }
 },
 "nbformat": 4,
 "nbformat_minor": 5
}
